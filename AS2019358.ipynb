{
  "nbformat": 4,
  "nbformat_minor": 0,
  "metadata": {
    "colab": {
      "provenance": []
    },
    "kernelspec": {
      "name": "python3",
      "display_name": "Python 3"
    },
    "language_info": {
      "name": "python"
    }
  },
  "cells": [
    {
      "cell_type": "markdown",
      "source": [
        "### ***Question 1*** - **KNN algorithm using Python ‘scikit-learn’ package**\n"
      ],
      "metadata": {
        "id": "B6zxhmlothGS"
      }
    },
    {
      "cell_type": "markdown",
      "source": [
        " **Import Dataset**"
      ],
      "metadata": {
        "id": "2912K6n1vzJO"
      }
    },
    {
      "cell_type": "code",
      "source": [
        "import pandas as pd\n",
        "mob_dataset = pd.read_csv('Mobile_Dataset.csv')\n",
        "mob_dataset.head()"
      ],
      "metadata": {
        "id": "UaAp9tnnvqR5",
        "colab": {
          "base_uri": "https://localhost:8080/",
          "height": 299
        },
        "outputId": "8f053107-475e-4002-ee28-afb7a8fea341"
      },
      "execution_count": 551,
      "outputs": [
        {
          "output_type": "execute_result",
          "data": {
            "text/plain": [
              "   battery_power  blue  clock_speed  dual_sim  fc  four_g  int_memory  m_dep  \\\n",
              "0            842     0          2.2         0   1       0           7    0.6   \n",
              "1           1021     1          0.5         1   0       1          53    0.7   \n",
              "2            563     1          0.5         1   2       1          41    0.9   \n",
              "3            615     1          2.5         0   0       0          10    0.8   \n",
              "4           1821     1          1.2         0  13       1          44    0.6   \n",
              "\n",
              "   mobile_wt  n_cores  ...  px_height  px_width   ram  sc_h  sc_w  talk_time  \\\n",
              "0        188        2  ...         20       756  2549     9     7         19   \n",
              "1        136        3  ...        905      1988  2631    17     3          7   \n",
              "2        145        5  ...       1263      1716  2603    11     2          9   \n",
              "3        131        6  ...       1216      1786  2769    16     8         11   \n",
              "4        141        2  ...       1208      1212  1411     8     2         15   \n",
              "\n",
              "   three_g  touch_screen  wifi  price_range  \n",
              "0        0             0     1            1  \n",
              "1        1             1     0            2  \n",
              "2        1             1     0            2  \n",
              "3        1             0     0            2  \n",
              "4        1             1     0            1  \n",
              "\n",
              "[5 rows x 21 columns]"
            ],
            "text/html": [
              "\n",
              "  <div id=\"df-2f7313f1-687c-4891-b001-5bb2a72a0b77\">\n",
              "    <div class=\"colab-df-container\">\n",
              "      <div>\n",
              "<style scoped>\n",
              "    .dataframe tbody tr th:only-of-type {\n",
              "        vertical-align: middle;\n",
              "    }\n",
              "\n",
              "    .dataframe tbody tr th {\n",
              "        vertical-align: top;\n",
              "    }\n",
              "\n",
              "    .dataframe thead th {\n",
              "        text-align: right;\n",
              "    }\n",
              "</style>\n",
              "<table border=\"1\" class=\"dataframe\">\n",
              "  <thead>\n",
              "    <tr style=\"text-align: right;\">\n",
              "      <th></th>\n",
              "      <th>battery_power</th>\n",
              "      <th>blue</th>\n",
              "      <th>clock_speed</th>\n",
              "      <th>dual_sim</th>\n",
              "      <th>fc</th>\n",
              "      <th>four_g</th>\n",
              "      <th>int_memory</th>\n",
              "      <th>m_dep</th>\n",
              "      <th>mobile_wt</th>\n",
              "      <th>n_cores</th>\n",
              "      <th>...</th>\n",
              "      <th>px_height</th>\n",
              "      <th>px_width</th>\n",
              "      <th>ram</th>\n",
              "      <th>sc_h</th>\n",
              "      <th>sc_w</th>\n",
              "      <th>talk_time</th>\n",
              "      <th>three_g</th>\n",
              "      <th>touch_screen</th>\n",
              "      <th>wifi</th>\n",
              "      <th>price_range</th>\n",
              "    </tr>\n",
              "  </thead>\n",
              "  <tbody>\n",
              "    <tr>\n",
              "      <th>0</th>\n",
              "      <td>842</td>\n",
              "      <td>0</td>\n",
              "      <td>2.2</td>\n",
              "      <td>0</td>\n",
              "      <td>1</td>\n",
              "      <td>0</td>\n",
              "      <td>7</td>\n",
              "      <td>0.6</td>\n",
              "      <td>188</td>\n",
              "      <td>2</td>\n",
              "      <td>...</td>\n",
              "      <td>20</td>\n",
              "      <td>756</td>\n",
              "      <td>2549</td>\n",
              "      <td>9</td>\n",
              "      <td>7</td>\n",
              "      <td>19</td>\n",
              "      <td>0</td>\n",
              "      <td>0</td>\n",
              "      <td>1</td>\n",
              "      <td>1</td>\n",
              "    </tr>\n",
              "    <tr>\n",
              "      <th>1</th>\n",
              "      <td>1021</td>\n",
              "      <td>1</td>\n",
              "      <td>0.5</td>\n",
              "      <td>1</td>\n",
              "      <td>0</td>\n",
              "      <td>1</td>\n",
              "      <td>53</td>\n",
              "      <td>0.7</td>\n",
              "      <td>136</td>\n",
              "      <td>3</td>\n",
              "      <td>...</td>\n",
              "      <td>905</td>\n",
              "      <td>1988</td>\n",
              "      <td>2631</td>\n",
              "      <td>17</td>\n",
              "      <td>3</td>\n",
              "      <td>7</td>\n",
              "      <td>1</td>\n",
              "      <td>1</td>\n",
              "      <td>0</td>\n",
              "      <td>2</td>\n",
              "    </tr>\n",
              "    <tr>\n",
              "      <th>2</th>\n",
              "      <td>563</td>\n",
              "      <td>1</td>\n",
              "      <td>0.5</td>\n",
              "      <td>1</td>\n",
              "      <td>2</td>\n",
              "      <td>1</td>\n",
              "      <td>41</td>\n",
              "      <td>0.9</td>\n",
              "      <td>145</td>\n",
              "      <td>5</td>\n",
              "      <td>...</td>\n",
              "      <td>1263</td>\n",
              "      <td>1716</td>\n",
              "      <td>2603</td>\n",
              "      <td>11</td>\n",
              "      <td>2</td>\n",
              "      <td>9</td>\n",
              "      <td>1</td>\n",
              "      <td>1</td>\n",
              "      <td>0</td>\n",
              "      <td>2</td>\n",
              "    </tr>\n",
              "    <tr>\n",
              "      <th>3</th>\n",
              "      <td>615</td>\n",
              "      <td>1</td>\n",
              "      <td>2.5</td>\n",
              "      <td>0</td>\n",
              "      <td>0</td>\n",
              "      <td>0</td>\n",
              "      <td>10</td>\n",
              "      <td>0.8</td>\n",
              "      <td>131</td>\n",
              "      <td>6</td>\n",
              "      <td>...</td>\n",
              "      <td>1216</td>\n",
              "      <td>1786</td>\n",
              "      <td>2769</td>\n",
              "      <td>16</td>\n",
              "      <td>8</td>\n",
              "      <td>11</td>\n",
              "      <td>1</td>\n",
              "      <td>0</td>\n",
              "      <td>0</td>\n",
              "      <td>2</td>\n",
              "    </tr>\n",
              "    <tr>\n",
              "      <th>4</th>\n",
              "      <td>1821</td>\n",
              "      <td>1</td>\n",
              "      <td>1.2</td>\n",
              "      <td>0</td>\n",
              "      <td>13</td>\n",
              "      <td>1</td>\n",
              "      <td>44</td>\n",
              "      <td>0.6</td>\n",
              "      <td>141</td>\n",
              "      <td>2</td>\n",
              "      <td>...</td>\n",
              "      <td>1208</td>\n",
              "      <td>1212</td>\n",
              "      <td>1411</td>\n",
              "      <td>8</td>\n",
              "      <td>2</td>\n",
              "      <td>15</td>\n",
              "      <td>1</td>\n",
              "      <td>1</td>\n",
              "      <td>0</td>\n",
              "      <td>1</td>\n",
              "    </tr>\n",
              "  </tbody>\n",
              "</table>\n",
              "<p>5 rows × 21 columns</p>\n",
              "</div>\n",
              "      <button class=\"colab-df-convert\" onclick=\"convertToInteractive('df-2f7313f1-687c-4891-b001-5bb2a72a0b77')\"\n",
              "              title=\"Convert this dataframe to an interactive table.\"\n",
              "              style=\"display:none;\">\n",
              "        \n",
              "  <svg xmlns=\"http://www.w3.org/2000/svg\" height=\"24px\"viewBox=\"0 0 24 24\"\n",
              "       width=\"24px\">\n",
              "    <path d=\"M0 0h24v24H0V0z\" fill=\"none\"/>\n",
              "    <path d=\"M18.56 5.44l.94 2.06.94-2.06 2.06-.94-2.06-.94-.94-2.06-.94 2.06-2.06.94zm-11 1L8.5 8.5l.94-2.06 2.06-.94-2.06-.94L8.5 2.5l-.94 2.06-2.06.94zm10 10l.94 2.06.94-2.06 2.06-.94-2.06-.94-.94-2.06-.94 2.06-2.06.94z\"/><path d=\"M17.41 7.96l-1.37-1.37c-.4-.4-.92-.59-1.43-.59-.52 0-1.04.2-1.43.59L10.3 9.45l-7.72 7.72c-.78.78-.78 2.05 0 2.83L4 21.41c.39.39.9.59 1.41.59.51 0 1.02-.2 1.41-.59l7.78-7.78 2.81-2.81c.8-.78.8-2.07 0-2.86zM5.41 20L4 18.59l7.72-7.72 1.47 1.35L5.41 20z\"/>\n",
              "  </svg>\n",
              "      </button>\n",
              "      \n",
              "  <style>\n",
              "    .colab-df-container {\n",
              "      display:flex;\n",
              "      flex-wrap:wrap;\n",
              "      gap: 12px;\n",
              "    }\n",
              "\n",
              "    .colab-df-convert {\n",
              "      background-color: #E8F0FE;\n",
              "      border: none;\n",
              "      border-radius: 50%;\n",
              "      cursor: pointer;\n",
              "      display: none;\n",
              "      fill: #1967D2;\n",
              "      height: 32px;\n",
              "      padding: 0 0 0 0;\n",
              "      width: 32px;\n",
              "    }\n",
              "\n",
              "    .colab-df-convert:hover {\n",
              "      background-color: #E2EBFA;\n",
              "      box-shadow: 0px 1px 2px rgba(60, 64, 67, 0.3), 0px 1px 3px 1px rgba(60, 64, 67, 0.15);\n",
              "      fill: #174EA6;\n",
              "    }\n",
              "\n",
              "    [theme=dark] .colab-df-convert {\n",
              "      background-color: #3B4455;\n",
              "      fill: #D2E3FC;\n",
              "    }\n",
              "\n",
              "    [theme=dark] .colab-df-convert:hover {\n",
              "      background-color: #434B5C;\n",
              "      box-shadow: 0px 1px 3px 1px rgba(0, 0, 0, 0.15);\n",
              "      filter: drop-shadow(0px 1px 2px rgba(0, 0, 0, 0.3));\n",
              "      fill: #FFFFFF;\n",
              "    }\n",
              "  </style>\n",
              "\n",
              "      <script>\n",
              "        const buttonEl =\n",
              "          document.querySelector('#df-2f7313f1-687c-4891-b001-5bb2a72a0b77 button.colab-df-convert');\n",
              "        buttonEl.style.display =\n",
              "          google.colab.kernel.accessAllowed ? 'block' : 'none';\n",
              "\n",
              "        async function convertToInteractive(key) {\n",
              "          const element = document.querySelector('#df-2f7313f1-687c-4891-b001-5bb2a72a0b77');\n",
              "          const dataTable =\n",
              "            await google.colab.kernel.invokeFunction('convertToInteractive',\n",
              "                                                     [key], {});\n",
              "          if (!dataTable) return;\n",
              "\n",
              "          const docLinkHtml = 'Like what you see? Visit the ' +\n",
              "            '<a target=\"_blank\" href=https://colab.research.google.com/notebooks/data_table.ipynb>data table notebook</a>'\n",
              "            + ' to learn more about interactive tables.';\n",
              "          element.innerHTML = '';\n",
              "          dataTable['output_type'] = 'display_data';\n",
              "          await google.colab.output.renderOutput(dataTable, element);\n",
              "          const docLink = document.createElement('div');\n",
              "          docLink.innerHTML = docLinkHtml;\n",
              "          element.appendChild(docLink);\n",
              "        }\n",
              "      </script>\n",
              "    </div>\n",
              "  </div>\n",
              "  "
            ]
          },
          "metadata": {},
          "execution_count": 551
        }
      ]
    },
    {
      "cell_type": "code",
      "source": [
        "mob_dataset.info()"
      ],
      "metadata": {
        "id": "Pn45dm2CyK85",
        "colab": {
          "base_uri": "https://localhost:8080/"
        },
        "outputId": "b568510b-dd93-4a2e-9a37-f3b5e24fdd78"
      },
      "execution_count": 552,
      "outputs": [
        {
          "output_type": "stream",
          "name": "stdout",
          "text": [
            "<class 'pandas.core.frame.DataFrame'>\n",
            "RangeIndex: 2000 entries, 0 to 1999\n",
            "Data columns (total 21 columns):\n",
            " #   Column         Non-Null Count  Dtype  \n",
            "---  ------         --------------  -----  \n",
            " 0   battery_power  2000 non-null   int64  \n",
            " 1   blue           2000 non-null   int64  \n",
            " 2   clock_speed    2000 non-null   float64\n",
            " 3   dual_sim       2000 non-null   int64  \n",
            " 4   fc             2000 non-null   int64  \n",
            " 5   four_g         2000 non-null   int64  \n",
            " 6   int_memory     2000 non-null   int64  \n",
            " 7   m_dep          2000 non-null   float64\n",
            " 8   mobile_wt      2000 non-null   int64  \n",
            " 9   n_cores        2000 non-null   int64  \n",
            " 10  pc             2000 non-null   int64  \n",
            " 11  px_height      2000 non-null   int64  \n",
            " 12  px_width       2000 non-null   int64  \n",
            " 13  ram            2000 non-null   int64  \n",
            " 14  sc_h           2000 non-null   int64  \n",
            " 15  sc_w           2000 non-null   int64  \n",
            " 16  talk_time      2000 non-null   int64  \n",
            " 17  three_g        2000 non-null   int64  \n",
            " 18  touch_screen   2000 non-null   int64  \n",
            " 19  wifi           2000 non-null   int64  \n",
            " 20  price_range    2000 non-null   int64  \n",
            "dtypes: float64(2), int64(19)\n",
            "memory usage: 328.2 KB\n"
          ]
        }
      ]
    },
    {
      "cell_type": "code",
      "source": [
        "mob_dataset.describe()"
      ],
      "metadata": {
        "id": "X8XI0xWM165p",
        "colab": {
          "base_uri": "https://localhost:8080/",
          "height": 394
        },
        "outputId": "7d821456-f92d-40bc-ae51-e51d1bb5559f"
      },
      "execution_count": 553,
      "outputs": [
        {
          "output_type": "execute_result",
          "data": {
            "text/plain": [
              "       battery_power       blue  clock_speed     dual_sim           fc  \\\n",
              "count    2000.000000  2000.0000  2000.000000  2000.000000  2000.000000   \n",
              "mean     1238.518500     0.4950     1.522250     0.509500     4.309500   \n",
              "std       439.418206     0.5001     0.816004     0.500035     4.341444   \n",
              "min       501.000000     0.0000     0.500000     0.000000     0.000000   \n",
              "25%       851.750000     0.0000     0.700000     0.000000     1.000000   \n",
              "50%      1226.000000     0.0000     1.500000     1.000000     3.000000   \n",
              "75%      1615.250000     1.0000     2.200000     1.000000     7.000000   \n",
              "max      1998.000000     1.0000     3.000000     1.000000    19.000000   \n",
              "\n",
              "            four_g   int_memory        m_dep    mobile_wt      n_cores  ...  \\\n",
              "count  2000.000000  2000.000000  2000.000000  2000.000000  2000.000000  ...   \n",
              "mean      0.521500    32.046500     0.501750   140.249000     4.520500  ...   \n",
              "std       0.499662    18.145715     0.288416    35.399655     2.287837  ...   \n",
              "min       0.000000     2.000000     0.100000    80.000000     1.000000  ...   \n",
              "25%       0.000000    16.000000     0.200000   109.000000     3.000000  ...   \n",
              "50%       1.000000    32.000000     0.500000   141.000000     4.000000  ...   \n",
              "75%       1.000000    48.000000     0.800000   170.000000     7.000000  ...   \n",
              "max       1.000000    64.000000     1.000000   200.000000     8.000000  ...   \n",
              "\n",
              "         px_height     px_width          ram         sc_h         sc_w  \\\n",
              "count  2000.000000  2000.000000  2000.000000  2000.000000  2000.000000   \n",
              "mean    645.108000  1251.515500  2124.213000    12.306500     5.767000   \n",
              "std     443.780811   432.199447  1084.732044     4.213245     4.356398   \n",
              "min       0.000000   500.000000   256.000000     5.000000     0.000000   \n",
              "25%     282.750000   874.750000  1207.500000     9.000000     2.000000   \n",
              "50%     564.000000  1247.000000  2146.500000    12.000000     5.000000   \n",
              "75%     947.250000  1633.000000  3064.500000    16.000000     9.000000   \n",
              "max    1960.000000  1998.000000  3998.000000    19.000000    18.000000   \n",
              "\n",
              "         talk_time      three_g  touch_screen         wifi  price_range  \n",
              "count  2000.000000  2000.000000   2000.000000  2000.000000  2000.000000  \n",
              "mean     11.011000     0.761500      0.503000     0.507000     1.500000  \n",
              "std       5.463955     0.426273      0.500116     0.500076     1.118314  \n",
              "min       2.000000     0.000000      0.000000     0.000000     0.000000  \n",
              "25%       6.000000     1.000000      0.000000     0.000000     0.750000  \n",
              "50%      11.000000     1.000000      1.000000     1.000000     1.500000  \n",
              "75%      16.000000     1.000000      1.000000     1.000000     2.250000  \n",
              "max      20.000000     1.000000      1.000000     1.000000     3.000000  \n",
              "\n",
              "[8 rows x 21 columns]"
            ],
            "text/html": [
              "\n",
              "  <div id=\"df-08f571f6-dc5d-4d46-a347-ee22ed14be3a\">\n",
              "    <div class=\"colab-df-container\">\n",
              "      <div>\n",
              "<style scoped>\n",
              "    .dataframe tbody tr th:only-of-type {\n",
              "        vertical-align: middle;\n",
              "    }\n",
              "\n",
              "    .dataframe tbody tr th {\n",
              "        vertical-align: top;\n",
              "    }\n",
              "\n",
              "    .dataframe thead th {\n",
              "        text-align: right;\n",
              "    }\n",
              "</style>\n",
              "<table border=\"1\" class=\"dataframe\">\n",
              "  <thead>\n",
              "    <tr style=\"text-align: right;\">\n",
              "      <th></th>\n",
              "      <th>battery_power</th>\n",
              "      <th>blue</th>\n",
              "      <th>clock_speed</th>\n",
              "      <th>dual_sim</th>\n",
              "      <th>fc</th>\n",
              "      <th>four_g</th>\n",
              "      <th>int_memory</th>\n",
              "      <th>m_dep</th>\n",
              "      <th>mobile_wt</th>\n",
              "      <th>n_cores</th>\n",
              "      <th>...</th>\n",
              "      <th>px_height</th>\n",
              "      <th>px_width</th>\n",
              "      <th>ram</th>\n",
              "      <th>sc_h</th>\n",
              "      <th>sc_w</th>\n",
              "      <th>talk_time</th>\n",
              "      <th>three_g</th>\n",
              "      <th>touch_screen</th>\n",
              "      <th>wifi</th>\n",
              "      <th>price_range</th>\n",
              "    </tr>\n",
              "  </thead>\n",
              "  <tbody>\n",
              "    <tr>\n",
              "      <th>count</th>\n",
              "      <td>2000.000000</td>\n",
              "      <td>2000.0000</td>\n",
              "      <td>2000.000000</td>\n",
              "      <td>2000.000000</td>\n",
              "      <td>2000.000000</td>\n",
              "      <td>2000.000000</td>\n",
              "      <td>2000.000000</td>\n",
              "      <td>2000.000000</td>\n",
              "      <td>2000.000000</td>\n",
              "      <td>2000.000000</td>\n",
              "      <td>...</td>\n",
              "      <td>2000.000000</td>\n",
              "      <td>2000.000000</td>\n",
              "      <td>2000.000000</td>\n",
              "      <td>2000.000000</td>\n",
              "      <td>2000.000000</td>\n",
              "      <td>2000.000000</td>\n",
              "      <td>2000.000000</td>\n",
              "      <td>2000.000000</td>\n",
              "      <td>2000.000000</td>\n",
              "      <td>2000.000000</td>\n",
              "    </tr>\n",
              "    <tr>\n",
              "      <th>mean</th>\n",
              "      <td>1238.518500</td>\n",
              "      <td>0.4950</td>\n",
              "      <td>1.522250</td>\n",
              "      <td>0.509500</td>\n",
              "      <td>4.309500</td>\n",
              "      <td>0.521500</td>\n",
              "      <td>32.046500</td>\n",
              "      <td>0.501750</td>\n",
              "      <td>140.249000</td>\n",
              "      <td>4.520500</td>\n",
              "      <td>...</td>\n",
              "      <td>645.108000</td>\n",
              "      <td>1251.515500</td>\n",
              "      <td>2124.213000</td>\n",
              "      <td>12.306500</td>\n",
              "      <td>5.767000</td>\n",
              "      <td>11.011000</td>\n",
              "      <td>0.761500</td>\n",
              "      <td>0.503000</td>\n",
              "      <td>0.507000</td>\n",
              "      <td>1.500000</td>\n",
              "    </tr>\n",
              "    <tr>\n",
              "      <th>std</th>\n",
              "      <td>439.418206</td>\n",
              "      <td>0.5001</td>\n",
              "      <td>0.816004</td>\n",
              "      <td>0.500035</td>\n",
              "      <td>4.341444</td>\n",
              "      <td>0.499662</td>\n",
              "      <td>18.145715</td>\n",
              "      <td>0.288416</td>\n",
              "      <td>35.399655</td>\n",
              "      <td>2.287837</td>\n",
              "      <td>...</td>\n",
              "      <td>443.780811</td>\n",
              "      <td>432.199447</td>\n",
              "      <td>1084.732044</td>\n",
              "      <td>4.213245</td>\n",
              "      <td>4.356398</td>\n",
              "      <td>5.463955</td>\n",
              "      <td>0.426273</td>\n",
              "      <td>0.500116</td>\n",
              "      <td>0.500076</td>\n",
              "      <td>1.118314</td>\n",
              "    </tr>\n",
              "    <tr>\n",
              "      <th>min</th>\n",
              "      <td>501.000000</td>\n",
              "      <td>0.0000</td>\n",
              "      <td>0.500000</td>\n",
              "      <td>0.000000</td>\n",
              "      <td>0.000000</td>\n",
              "      <td>0.000000</td>\n",
              "      <td>2.000000</td>\n",
              "      <td>0.100000</td>\n",
              "      <td>80.000000</td>\n",
              "      <td>1.000000</td>\n",
              "      <td>...</td>\n",
              "      <td>0.000000</td>\n",
              "      <td>500.000000</td>\n",
              "      <td>256.000000</td>\n",
              "      <td>5.000000</td>\n",
              "      <td>0.000000</td>\n",
              "      <td>2.000000</td>\n",
              "      <td>0.000000</td>\n",
              "      <td>0.000000</td>\n",
              "      <td>0.000000</td>\n",
              "      <td>0.000000</td>\n",
              "    </tr>\n",
              "    <tr>\n",
              "      <th>25%</th>\n",
              "      <td>851.750000</td>\n",
              "      <td>0.0000</td>\n",
              "      <td>0.700000</td>\n",
              "      <td>0.000000</td>\n",
              "      <td>1.000000</td>\n",
              "      <td>0.000000</td>\n",
              "      <td>16.000000</td>\n",
              "      <td>0.200000</td>\n",
              "      <td>109.000000</td>\n",
              "      <td>3.000000</td>\n",
              "      <td>...</td>\n",
              "      <td>282.750000</td>\n",
              "      <td>874.750000</td>\n",
              "      <td>1207.500000</td>\n",
              "      <td>9.000000</td>\n",
              "      <td>2.000000</td>\n",
              "      <td>6.000000</td>\n",
              "      <td>1.000000</td>\n",
              "      <td>0.000000</td>\n",
              "      <td>0.000000</td>\n",
              "      <td>0.750000</td>\n",
              "    </tr>\n",
              "    <tr>\n",
              "      <th>50%</th>\n",
              "      <td>1226.000000</td>\n",
              "      <td>0.0000</td>\n",
              "      <td>1.500000</td>\n",
              "      <td>1.000000</td>\n",
              "      <td>3.000000</td>\n",
              "      <td>1.000000</td>\n",
              "      <td>32.000000</td>\n",
              "      <td>0.500000</td>\n",
              "      <td>141.000000</td>\n",
              "      <td>4.000000</td>\n",
              "      <td>...</td>\n",
              "      <td>564.000000</td>\n",
              "      <td>1247.000000</td>\n",
              "      <td>2146.500000</td>\n",
              "      <td>12.000000</td>\n",
              "      <td>5.000000</td>\n",
              "      <td>11.000000</td>\n",
              "      <td>1.000000</td>\n",
              "      <td>1.000000</td>\n",
              "      <td>1.000000</td>\n",
              "      <td>1.500000</td>\n",
              "    </tr>\n",
              "    <tr>\n",
              "      <th>75%</th>\n",
              "      <td>1615.250000</td>\n",
              "      <td>1.0000</td>\n",
              "      <td>2.200000</td>\n",
              "      <td>1.000000</td>\n",
              "      <td>7.000000</td>\n",
              "      <td>1.000000</td>\n",
              "      <td>48.000000</td>\n",
              "      <td>0.800000</td>\n",
              "      <td>170.000000</td>\n",
              "      <td>7.000000</td>\n",
              "      <td>...</td>\n",
              "      <td>947.250000</td>\n",
              "      <td>1633.000000</td>\n",
              "      <td>3064.500000</td>\n",
              "      <td>16.000000</td>\n",
              "      <td>9.000000</td>\n",
              "      <td>16.000000</td>\n",
              "      <td>1.000000</td>\n",
              "      <td>1.000000</td>\n",
              "      <td>1.000000</td>\n",
              "      <td>2.250000</td>\n",
              "    </tr>\n",
              "    <tr>\n",
              "      <th>max</th>\n",
              "      <td>1998.000000</td>\n",
              "      <td>1.0000</td>\n",
              "      <td>3.000000</td>\n",
              "      <td>1.000000</td>\n",
              "      <td>19.000000</td>\n",
              "      <td>1.000000</td>\n",
              "      <td>64.000000</td>\n",
              "      <td>1.000000</td>\n",
              "      <td>200.000000</td>\n",
              "      <td>8.000000</td>\n",
              "      <td>...</td>\n",
              "      <td>1960.000000</td>\n",
              "      <td>1998.000000</td>\n",
              "      <td>3998.000000</td>\n",
              "      <td>19.000000</td>\n",
              "      <td>18.000000</td>\n",
              "      <td>20.000000</td>\n",
              "      <td>1.000000</td>\n",
              "      <td>1.000000</td>\n",
              "      <td>1.000000</td>\n",
              "      <td>3.000000</td>\n",
              "    </tr>\n",
              "  </tbody>\n",
              "</table>\n",
              "<p>8 rows × 21 columns</p>\n",
              "</div>\n",
              "      <button class=\"colab-df-convert\" onclick=\"convertToInteractive('df-08f571f6-dc5d-4d46-a347-ee22ed14be3a')\"\n",
              "              title=\"Convert this dataframe to an interactive table.\"\n",
              "              style=\"display:none;\">\n",
              "        \n",
              "  <svg xmlns=\"http://www.w3.org/2000/svg\" height=\"24px\"viewBox=\"0 0 24 24\"\n",
              "       width=\"24px\">\n",
              "    <path d=\"M0 0h24v24H0V0z\" fill=\"none\"/>\n",
              "    <path d=\"M18.56 5.44l.94 2.06.94-2.06 2.06-.94-2.06-.94-.94-2.06-.94 2.06-2.06.94zm-11 1L8.5 8.5l.94-2.06 2.06-.94-2.06-.94L8.5 2.5l-.94 2.06-2.06.94zm10 10l.94 2.06.94-2.06 2.06-.94-2.06-.94-.94-2.06-.94 2.06-2.06.94z\"/><path d=\"M17.41 7.96l-1.37-1.37c-.4-.4-.92-.59-1.43-.59-.52 0-1.04.2-1.43.59L10.3 9.45l-7.72 7.72c-.78.78-.78 2.05 0 2.83L4 21.41c.39.39.9.59 1.41.59.51 0 1.02-.2 1.41-.59l7.78-7.78 2.81-2.81c.8-.78.8-2.07 0-2.86zM5.41 20L4 18.59l7.72-7.72 1.47 1.35L5.41 20z\"/>\n",
              "  </svg>\n",
              "      </button>\n",
              "      \n",
              "  <style>\n",
              "    .colab-df-container {\n",
              "      display:flex;\n",
              "      flex-wrap:wrap;\n",
              "      gap: 12px;\n",
              "    }\n",
              "\n",
              "    .colab-df-convert {\n",
              "      background-color: #E8F0FE;\n",
              "      border: none;\n",
              "      border-radius: 50%;\n",
              "      cursor: pointer;\n",
              "      display: none;\n",
              "      fill: #1967D2;\n",
              "      height: 32px;\n",
              "      padding: 0 0 0 0;\n",
              "      width: 32px;\n",
              "    }\n",
              "\n",
              "    .colab-df-convert:hover {\n",
              "      background-color: #E2EBFA;\n",
              "      box-shadow: 0px 1px 2px rgba(60, 64, 67, 0.3), 0px 1px 3px 1px rgba(60, 64, 67, 0.15);\n",
              "      fill: #174EA6;\n",
              "    }\n",
              "\n",
              "    [theme=dark] .colab-df-convert {\n",
              "      background-color: #3B4455;\n",
              "      fill: #D2E3FC;\n",
              "    }\n",
              "\n",
              "    [theme=dark] .colab-df-convert:hover {\n",
              "      background-color: #434B5C;\n",
              "      box-shadow: 0px 1px 3px 1px rgba(0, 0, 0, 0.15);\n",
              "      filter: drop-shadow(0px 1px 2px rgba(0, 0, 0, 0.3));\n",
              "      fill: #FFFFFF;\n",
              "    }\n",
              "  </style>\n",
              "\n",
              "      <script>\n",
              "        const buttonEl =\n",
              "          document.querySelector('#df-08f571f6-dc5d-4d46-a347-ee22ed14be3a button.colab-df-convert');\n",
              "        buttonEl.style.display =\n",
              "          google.colab.kernel.accessAllowed ? 'block' : 'none';\n",
              "\n",
              "        async function convertToInteractive(key) {\n",
              "          const element = document.querySelector('#df-08f571f6-dc5d-4d46-a347-ee22ed14be3a');\n",
              "          const dataTable =\n",
              "            await google.colab.kernel.invokeFunction('convertToInteractive',\n",
              "                                                     [key], {});\n",
              "          if (!dataTable) return;\n",
              "\n",
              "          const docLinkHtml = 'Like what you see? Visit the ' +\n",
              "            '<a target=\"_blank\" href=https://colab.research.google.com/notebooks/data_table.ipynb>data table notebook</a>'\n",
              "            + ' to learn more about interactive tables.';\n",
              "          element.innerHTML = '';\n",
              "          dataTable['output_type'] = 'display_data';\n",
              "          await google.colab.output.renderOutput(dataTable, element);\n",
              "          const docLink = document.createElement('div');\n",
              "          docLink.innerHTML = docLinkHtml;\n",
              "          element.appendChild(docLink);\n",
              "        }\n",
              "      </script>\n",
              "    </div>\n",
              "  </div>\n",
              "  "
            ]
          },
          "metadata": {},
          "execution_count": 553
        }
      ]
    },
    {
      "cell_type": "markdown",
      "source": [
        "**Handling of missing values & null values** "
      ],
      "metadata": {
        "id": "80kswJ-XtXBO"
      }
    },
    {
      "cell_type": "code",
      "source": [
        "# check missing values in variables\n",
        "\n",
        "mob_dataset.isnull().sum()"
      ],
      "metadata": {
        "colab": {
          "base_uri": "https://localhost:8080/"
        },
        "id": "dpOnz0DhtUZI",
        "outputId": "35d1f55f-6a97-46e6-b006-97945b5cde0f"
      },
      "execution_count": 554,
      "outputs": [
        {
          "output_type": "execute_result",
          "data": {
            "text/plain": [
              "battery_power    0\n",
              "blue             0\n",
              "clock_speed      0\n",
              "dual_sim         0\n",
              "fc               0\n",
              "four_g           0\n",
              "int_memory       0\n",
              "m_dep            0\n",
              "mobile_wt        0\n",
              "n_cores          0\n",
              "pc               0\n",
              "px_height        0\n",
              "px_width         0\n",
              "ram              0\n",
              "sc_h             0\n",
              "sc_w             0\n",
              "talk_time        0\n",
              "three_g          0\n",
              "touch_screen     0\n",
              "wifi             0\n",
              "price_range      0\n",
              "dtype: int64"
            ]
          },
          "metadata": {},
          "execution_count": 554
        }
      ]
    },
    {
      "cell_type": "code",
      "source": [
        "# check `na` values in the dataset\n",
        "\n",
        "mob_dataset.isna().sum()"
      ],
      "metadata": {
        "colab": {
          "base_uri": "https://localhost:8080/"
        },
        "id": "yFsgMs9s4yr6",
        "outputId": "320ffbb9-cab2-4e4d-e072-e61591c9cb88"
      },
      "execution_count": 555,
      "outputs": [
        {
          "output_type": "execute_result",
          "data": {
            "text/plain": [
              "battery_power    0\n",
              "blue             0\n",
              "clock_speed      0\n",
              "dual_sim         0\n",
              "fc               0\n",
              "four_g           0\n",
              "int_memory       0\n",
              "m_dep            0\n",
              "mobile_wt        0\n",
              "n_cores          0\n",
              "pc               0\n",
              "px_height        0\n",
              "px_width         0\n",
              "ram              0\n",
              "sc_h             0\n",
              "sc_w             0\n",
              "talk_time        0\n",
              "three_g          0\n",
              "touch_screen     0\n",
              "wifi             0\n",
              "price_range      0\n",
              "dtype: int64"
            ]
          },
          "metadata": {},
          "execution_count": 555
        }
      ]
    },
    {
      "cell_type": "markdown",
      "source": [
        "**Finding outliers** "
      ],
      "metadata": {
        "id": "FCHPBmOCRRBM"
      }
    },
    {
      "cell_type": "code",
      "source": [
        "print(round(mob_dataset.describe(),2))"
      ],
      "metadata": {
        "colab": {
          "base_uri": "https://localhost:8080/"
        },
        "id": "Y5fzWuY15Z8s",
        "outputId": "01dd21f8-5d6b-4df2-a4af-bc86e6092be0"
      },
      "execution_count": 556,
      "outputs": [
        {
          "output_type": "stream",
          "name": "stdout",
          "text": [
            "       battery_power    blue  clock_speed  dual_sim       fc   four_g  \\\n",
            "count        2000.00  2000.0      2000.00   2000.00  2000.00  2000.00   \n",
            "mean         1238.52     0.5         1.52      0.51     4.31     0.52   \n",
            "std           439.42     0.5         0.82      0.50     4.34     0.50   \n",
            "min           501.00     0.0         0.50      0.00     0.00     0.00   \n",
            "25%           851.75     0.0         0.70      0.00     1.00     0.00   \n",
            "50%          1226.00     0.0         1.50      1.00     3.00     1.00   \n",
            "75%          1615.25     1.0         2.20      1.00     7.00     1.00   \n",
            "max          1998.00     1.0         3.00      1.00    19.00     1.00   \n",
            "\n",
            "       int_memory    m_dep  mobile_wt  n_cores  ...  px_height  px_width  \\\n",
            "count     2000.00  2000.00    2000.00  2000.00  ...    2000.00   2000.00   \n",
            "mean        32.05     0.50     140.25     4.52  ...     645.11   1251.52   \n",
            "std         18.15     0.29      35.40     2.29  ...     443.78    432.20   \n",
            "min          2.00     0.10      80.00     1.00  ...       0.00    500.00   \n",
            "25%         16.00     0.20     109.00     3.00  ...     282.75    874.75   \n",
            "50%         32.00     0.50     141.00     4.00  ...     564.00   1247.00   \n",
            "75%         48.00     0.80     170.00     7.00  ...     947.25   1633.00   \n",
            "max         64.00     1.00     200.00     8.00  ...    1960.00   1998.00   \n",
            "\n",
            "           ram     sc_h     sc_w  talk_time  three_g  touch_screen     wifi  \\\n",
            "count  2000.00  2000.00  2000.00    2000.00  2000.00        2000.0  2000.00   \n",
            "mean   2124.21    12.31     5.77      11.01     0.76           0.5     0.51   \n",
            "std    1084.73     4.21     4.36       5.46     0.43           0.5     0.50   \n",
            "min     256.00     5.00     0.00       2.00     0.00           0.0     0.00   \n",
            "25%    1207.50     9.00     2.00       6.00     1.00           0.0     0.00   \n",
            "50%    2146.50    12.00     5.00      11.00     1.00           1.0     1.00   \n",
            "75%    3064.50    16.00     9.00      16.00     1.00           1.0     1.00   \n",
            "max    3998.00    19.00    18.00      20.00     1.00           1.0     1.00   \n",
            "\n",
            "       price_range  \n",
            "count      2000.00  \n",
            "mean          1.50  \n",
            "std           1.12  \n",
            "min           0.00  \n",
            "25%           0.75  \n",
            "50%           1.50  \n",
            "75%           2.25  \n",
            "max           3.00  \n",
            "\n",
            "[8 rows x 21 columns]\n"
          ]
        }
      ]
    },
    {
      "cell_type": "markdown",
      "source": [
        "According to the above output no outliers in the dataset."
      ],
      "metadata": {
        "id": "4YaiXqDASKp4"
      }
    },
    {
      "cell_type": "markdown",
      "source": [
        "**Rearranging dataset** \n",
        "\n"
      ],
      "metadata": {
        "id": "CpBp-lgG2Jho"
      }
    },
    {
      "cell_type": "code",
      "source": [
        "X = mob_dataset.drop(columns=['price_range'])\n",
        "y= mob_dataset['price_range']\n"
      ],
      "metadata": {
        "id": "gAHe6wuK2F5h"
      },
      "execution_count": 557,
      "outputs": []
    },
    {
      "cell_type": "markdown",
      "source": [
        "**Normalizing data**"
      ],
      "metadata": {
        "id": "tbUlKd30Lrjm"
      }
    },
    {
      "cell_type": "code",
      "source": [
        "from sklearn import preprocessing\n",
        "scaler = preprocessing.MinMaxScaler()\n",
        "names = mob_dataset.columns\n",
        "d = scaler.fit_transform(mob_dataset)\n",
        "scaled_df = pd.DataFrame(d, columns=names)\n",
        "scaled_df.head()"
      ],
      "metadata": {
        "colab": {
          "base_uri": "https://localhost:8080/",
          "height": 299
        },
        "id": "I4fZK4p-JijF",
        "outputId": "c54b6273-6667-4902-dd14-d70d1ef0c9c4"
      },
      "execution_count": 558,
      "outputs": [
        {
          "output_type": "execute_result",
          "data": {
            "text/plain": [
              "   battery_power  blue  clock_speed  dual_sim        fc  four_g  int_memory  \\\n",
              "0       0.227789   0.0         0.68       0.0  0.052632     0.0    0.080645   \n",
              "1       0.347361   1.0         0.00       1.0  0.000000     1.0    0.822581   \n",
              "2       0.041416   1.0         0.00       1.0  0.105263     1.0    0.629032   \n",
              "3       0.076152   1.0         0.80       0.0  0.000000     0.0    0.129032   \n",
              "4       0.881764   1.0         0.28       0.0  0.684211     1.0    0.677419   \n",
              "\n",
              "      m_dep  mobile_wt   n_cores  ...  px_height  px_width       ram  \\\n",
              "0  0.555556   0.900000  0.142857  ...   0.010204  0.170895  0.612774   \n",
              "1  0.666667   0.466667  0.285714  ...   0.461735  0.993324  0.634687   \n",
              "2  0.888889   0.541667  0.571429  ...   0.644388  0.811749  0.627205   \n",
              "3  0.777778   0.425000  0.714286  ...   0.620408  0.858478  0.671566   \n",
              "4  0.555556   0.508333  0.142857  ...   0.616327  0.475300  0.308658   \n",
              "\n",
              "       sc_h      sc_w  talk_time  three_g  touch_screen  wifi  price_range  \n",
              "0  0.285714  0.388889   0.944444      0.0           0.0   1.0     0.333333  \n",
              "1  0.857143  0.166667   0.277778      1.0           1.0   0.0     0.666667  \n",
              "2  0.428571  0.111111   0.388889      1.0           1.0   0.0     0.666667  \n",
              "3  0.785714  0.444444   0.500000      1.0           0.0   0.0     0.666667  \n",
              "4  0.214286  0.111111   0.722222      1.0           1.0   0.0     0.333333  \n",
              "\n",
              "[5 rows x 21 columns]"
            ],
            "text/html": [
              "\n",
              "  <div id=\"df-e14fe7a2-a695-40d6-9481-23aa946d464d\">\n",
              "    <div class=\"colab-df-container\">\n",
              "      <div>\n",
              "<style scoped>\n",
              "    .dataframe tbody tr th:only-of-type {\n",
              "        vertical-align: middle;\n",
              "    }\n",
              "\n",
              "    .dataframe tbody tr th {\n",
              "        vertical-align: top;\n",
              "    }\n",
              "\n",
              "    .dataframe thead th {\n",
              "        text-align: right;\n",
              "    }\n",
              "</style>\n",
              "<table border=\"1\" class=\"dataframe\">\n",
              "  <thead>\n",
              "    <tr style=\"text-align: right;\">\n",
              "      <th></th>\n",
              "      <th>battery_power</th>\n",
              "      <th>blue</th>\n",
              "      <th>clock_speed</th>\n",
              "      <th>dual_sim</th>\n",
              "      <th>fc</th>\n",
              "      <th>four_g</th>\n",
              "      <th>int_memory</th>\n",
              "      <th>m_dep</th>\n",
              "      <th>mobile_wt</th>\n",
              "      <th>n_cores</th>\n",
              "      <th>...</th>\n",
              "      <th>px_height</th>\n",
              "      <th>px_width</th>\n",
              "      <th>ram</th>\n",
              "      <th>sc_h</th>\n",
              "      <th>sc_w</th>\n",
              "      <th>talk_time</th>\n",
              "      <th>three_g</th>\n",
              "      <th>touch_screen</th>\n",
              "      <th>wifi</th>\n",
              "      <th>price_range</th>\n",
              "    </tr>\n",
              "  </thead>\n",
              "  <tbody>\n",
              "    <tr>\n",
              "      <th>0</th>\n",
              "      <td>0.227789</td>\n",
              "      <td>0.0</td>\n",
              "      <td>0.68</td>\n",
              "      <td>0.0</td>\n",
              "      <td>0.052632</td>\n",
              "      <td>0.0</td>\n",
              "      <td>0.080645</td>\n",
              "      <td>0.555556</td>\n",
              "      <td>0.900000</td>\n",
              "      <td>0.142857</td>\n",
              "      <td>...</td>\n",
              "      <td>0.010204</td>\n",
              "      <td>0.170895</td>\n",
              "      <td>0.612774</td>\n",
              "      <td>0.285714</td>\n",
              "      <td>0.388889</td>\n",
              "      <td>0.944444</td>\n",
              "      <td>0.0</td>\n",
              "      <td>0.0</td>\n",
              "      <td>1.0</td>\n",
              "      <td>0.333333</td>\n",
              "    </tr>\n",
              "    <tr>\n",
              "      <th>1</th>\n",
              "      <td>0.347361</td>\n",
              "      <td>1.0</td>\n",
              "      <td>0.00</td>\n",
              "      <td>1.0</td>\n",
              "      <td>0.000000</td>\n",
              "      <td>1.0</td>\n",
              "      <td>0.822581</td>\n",
              "      <td>0.666667</td>\n",
              "      <td>0.466667</td>\n",
              "      <td>0.285714</td>\n",
              "      <td>...</td>\n",
              "      <td>0.461735</td>\n",
              "      <td>0.993324</td>\n",
              "      <td>0.634687</td>\n",
              "      <td>0.857143</td>\n",
              "      <td>0.166667</td>\n",
              "      <td>0.277778</td>\n",
              "      <td>1.0</td>\n",
              "      <td>1.0</td>\n",
              "      <td>0.0</td>\n",
              "      <td>0.666667</td>\n",
              "    </tr>\n",
              "    <tr>\n",
              "      <th>2</th>\n",
              "      <td>0.041416</td>\n",
              "      <td>1.0</td>\n",
              "      <td>0.00</td>\n",
              "      <td>1.0</td>\n",
              "      <td>0.105263</td>\n",
              "      <td>1.0</td>\n",
              "      <td>0.629032</td>\n",
              "      <td>0.888889</td>\n",
              "      <td>0.541667</td>\n",
              "      <td>0.571429</td>\n",
              "      <td>...</td>\n",
              "      <td>0.644388</td>\n",
              "      <td>0.811749</td>\n",
              "      <td>0.627205</td>\n",
              "      <td>0.428571</td>\n",
              "      <td>0.111111</td>\n",
              "      <td>0.388889</td>\n",
              "      <td>1.0</td>\n",
              "      <td>1.0</td>\n",
              "      <td>0.0</td>\n",
              "      <td>0.666667</td>\n",
              "    </tr>\n",
              "    <tr>\n",
              "      <th>3</th>\n",
              "      <td>0.076152</td>\n",
              "      <td>1.0</td>\n",
              "      <td>0.80</td>\n",
              "      <td>0.0</td>\n",
              "      <td>0.000000</td>\n",
              "      <td>0.0</td>\n",
              "      <td>0.129032</td>\n",
              "      <td>0.777778</td>\n",
              "      <td>0.425000</td>\n",
              "      <td>0.714286</td>\n",
              "      <td>...</td>\n",
              "      <td>0.620408</td>\n",
              "      <td>0.858478</td>\n",
              "      <td>0.671566</td>\n",
              "      <td>0.785714</td>\n",
              "      <td>0.444444</td>\n",
              "      <td>0.500000</td>\n",
              "      <td>1.0</td>\n",
              "      <td>0.0</td>\n",
              "      <td>0.0</td>\n",
              "      <td>0.666667</td>\n",
              "    </tr>\n",
              "    <tr>\n",
              "      <th>4</th>\n",
              "      <td>0.881764</td>\n",
              "      <td>1.0</td>\n",
              "      <td>0.28</td>\n",
              "      <td>0.0</td>\n",
              "      <td>0.684211</td>\n",
              "      <td>1.0</td>\n",
              "      <td>0.677419</td>\n",
              "      <td>0.555556</td>\n",
              "      <td>0.508333</td>\n",
              "      <td>0.142857</td>\n",
              "      <td>...</td>\n",
              "      <td>0.616327</td>\n",
              "      <td>0.475300</td>\n",
              "      <td>0.308658</td>\n",
              "      <td>0.214286</td>\n",
              "      <td>0.111111</td>\n",
              "      <td>0.722222</td>\n",
              "      <td>1.0</td>\n",
              "      <td>1.0</td>\n",
              "      <td>0.0</td>\n",
              "      <td>0.333333</td>\n",
              "    </tr>\n",
              "  </tbody>\n",
              "</table>\n",
              "<p>5 rows × 21 columns</p>\n",
              "</div>\n",
              "      <button class=\"colab-df-convert\" onclick=\"convertToInteractive('df-e14fe7a2-a695-40d6-9481-23aa946d464d')\"\n",
              "              title=\"Convert this dataframe to an interactive table.\"\n",
              "              style=\"display:none;\">\n",
              "        \n",
              "  <svg xmlns=\"http://www.w3.org/2000/svg\" height=\"24px\"viewBox=\"0 0 24 24\"\n",
              "       width=\"24px\">\n",
              "    <path d=\"M0 0h24v24H0V0z\" fill=\"none\"/>\n",
              "    <path d=\"M18.56 5.44l.94 2.06.94-2.06 2.06-.94-2.06-.94-.94-2.06-.94 2.06-2.06.94zm-11 1L8.5 8.5l.94-2.06 2.06-.94-2.06-.94L8.5 2.5l-.94 2.06-2.06.94zm10 10l.94 2.06.94-2.06 2.06-.94-2.06-.94-.94-2.06-.94 2.06-2.06.94z\"/><path d=\"M17.41 7.96l-1.37-1.37c-.4-.4-.92-.59-1.43-.59-.52 0-1.04.2-1.43.59L10.3 9.45l-7.72 7.72c-.78.78-.78 2.05 0 2.83L4 21.41c.39.39.9.59 1.41.59.51 0 1.02-.2 1.41-.59l7.78-7.78 2.81-2.81c.8-.78.8-2.07 0-2.86zM5.41 20L4 18.59l7.72-7.72 1.47 1.35L5.41 20z\"/>\n",
              "  </svg>\n",
              "      </button>\n",
              "      \n",
              "  <style>\n",
              "    .colab-df-container {\n",
              "      display:flex;\n",
              "      flex-wrap:wrap;\n",
              "      gap: 12px;\n",
              "    }\n",
              "\n",
              "    .colab-df-convert {\n",
              "      background-color: #E8F0FE;\n",
              "      border: none;\n",
              "      border-radius: 50%;\n",
              "      cursor: pointer;\n",
              "      display: none;\n",
              "      fill: #1967D2;\n",
              "      height: 32px;\n",
              "      padding: 0 0 0 0;\n",
              "      width: 32px;\n",
              "    }\n",
              "\n",
              "    .colab-df-convert:hover {\n",
              "      background-color: #E2EBFA;\n",
              "      box-shadow: 0px 1px 2px rgba(60, 64, 67, 0.3), 0px 1px 3px 1px rgba(60, 64, 67, 0.15);\n",
              "      fill: #174EA6;\n",
              "    }\n",
              "\n",
              "    [theme=dark] .colab-df-convert {\n",
              "      background-color: #3B4455;\n",
              "      fill: #D2E3FC;\n",
              "    }\n",
              "\n",
              "    [theme=dark] .colab-df-convert:hover {\n",
              "      background-color: #434B5C;\n",
              "      box-shadow: 0px 1px 3px 1px rgba(0, 0, 0, 0.15);\n",
              "      filter: drop-shadow(0px 1px 2px rgba(0, 0, 0, 0.3));\n",
              "      fill: #FFFFFF;\n",
              "    }\n",
              "  </style>\n",
              "\n",
              "      <script>\n",
              "        const buttonEl =\n",
              "          document.querySelector('#df-e14fe7a2-a695-40d6-9481-23aa946d464d button.colab-df-convert');\n",
              "        buttonEl.style.display =\n",
              "          google.colab.kernel.accessAllowed ? 'block' : 'none';\n",
              "\n",
              "        async function convertToInteractive(key) {\n",
              "          const element = document.querySelector('#df-e14fe7a2-a695-40d6-9481-23aa946d464d');\n",
              "          const dataTable =\n",
              "            await google.colab.kernel.invokeFunction('convertToInteractive',\n",
              "                                                     [key], {});\n",
              "          if (!dataTable) return;\n",
              "\n",
              "          const docLinkHtml = 'Like what you see? Visit the ' +\n",
              "            '<a target=\"_blank\" href=https://colab.research.google.com/notebooks/data_table.ipynb>data table notebook</a>'\n",
              "            + ' to learn more about interactive tables.';\n",
              "          element.innerHTML = '';\n",
              "          dataTable['output_type'] = 'display_data';\n",
              "          await google.colab.output.renderOutput(dataTable, element);\n",
              "          const docLink = document.createElement('div');\n",
              "          docLink.innerHTML = docLinkHtml;\n",
              "          element.appendChild(docLink);\n",
              "        }\n",
              "      </script>\n",
              "    </div>\n",
              "  </div>\n",
              "  "
            ]
          },
          "metadata": {},
          "execution_count": 558
        }
      ]
    },
    {
      "cell_type": "markdown",
      "source": [
        "**Splitting dataset for training & testing**"
      ],
      "metadata": {
        "id": "NGd1HlSkL04Y"
      }
    },
    {
      "cell_type": "code",
      "source": [
        "from sklearn.model_selection import train_test_split\n",
        "\n",
        "X_train, X_test, y_train, y_test = train_test_split(X,y, test_size=0.2,random_state=0) # allocation 20% of data for testing\n",
        "print (\"X_train shape = \", X_train.shape, \"y_train shape = \", y_train.shape)\n",
        "print (\"X_test shape = \", X_test.shape, \"y_test shape = \", y_test.shape)\n"
      ],
      "metadata": {
        "id": "IJUiJuq52Val",
        "colab": {
          "base_uri": "https://localhost:8080/"
        },
        "outputId": "41345906-5ea4-4750-ef4a-17b966122355"
      },
      "execution_count": 559,
      "outputs": [
        {
          "output_type": "stream",
          "name": "stdout",
          "text": [
            "X_train shape =  (1600, 20) y_train shape =  (1600,)\n",
            "X_test shape =  (400, 20) y_test shape =  (400,)\n"
          ]
        }
      ]
    },
    {
      "cell_type": "markdown",
      "source": [
        "**Feature Extraction**"
      ],
      "metadata": {
        "id": "UalAHBhhS54i"
      }
    },
    {
      "cell_type": "code",
      "source": [
        "# check data types in X_train\n",
        "\n",
        "X_train.dtypes"
      ],
      "metadata": {
        "colab": {
          "base_uri": "https://localhost:8080/"
        },
        "id": "_SRExnpbS_Ac",
        "outputId": "9c8d245d-83b3-454e-b8bb-74e06fed3080"
      },
      "execution_count": 560,
      "outputs": [
        {
          "output_type": "execute_result",
          "data": {
            "text/plain": [
              "battery_power      int64\n",
              "blue               int64\n",
              "clock_speed      float64\n",
              "dual_sim           int64\n",
              "fc                 int64\n",
              "four_g             int64\n",
              "int_memory         int64\n",
              "m_dep            float64\n",
              "mobile_wt          int64\n",
              "n_cores            int64\n",
              "pc                 int64\n",
              "px_height          int64\n",
              "px_width           int64\n",
              "ram                int64\n",
              "sc_h               int64\n",
              "sc_w               int64\n",
              "talk_time          int64\n",
              "three_g            int64\n",
              "touch_screen       int64\n",
              "wifi               int64\n",
              "dtype: object"
            ]
          },
          "metadata": {},
          "execution_count": 560
        }
      ]
    },
    {
      "cell_type": "code",
      "source": [
        "# check data types in X_test\n",
        "\n",
        "X_test.dtypes"
      ],
      "metadata": {
        "colab": {
          "base_uri": "https://localhost:8080/"
        },
        "id": "ixkTTv6dTUih",
        "outputId": "e6db427b-9946-4da1-d8f3-ea21aa03ff39"
      },
      "execution_count": 561,
      "outputs": [
        {
          "output_type": "execute_result",
          "data": {
            "text/plain": [
              "battery_power      int64\n",
              "blue               int64\n",
              "clock_speed      float64\n",
              "dual_sim           int64\n",
              "fc                 int64\n",
              "four_g             int64\n",
              "int_memory         int64\n",
              "m_dep            float64\n",
              "mobile_wt          int64\n",
              "n_cores            int64\n",
              "pc                 int64\n",
              "px_height          int64\n",
              "px_width           int64\n",
              "ram                int64\n",
              "sc_h               int64\n",
              "sc_w               int64\n",
              "talk_time          int64\n",
              "three_g            int64\n",
              "touch_screen       int64\n",
              "wifi               int64\n",
              "dtype: object"
            ]
          },
          "metadata": {},
          "execution_count": 561
        }
      ]
    },
    {
      "cell_type": "code",
      "source": [
        "# check missing values in numerical variables in X_train\n",
        "\n",
        "X_train.isnull().sum()"
      ],
      "metadata": {
        "colab": {
          "base_uri": "https://localhost:8080/"
        },
        "id": "Mgi5Zk_1TZFK",
        "outputId": "a713f2ce-5c1d-47bd-c3e2-ec2e78cd0f28"
      },
      "execution_count": 562,
      "outputs": [
        {
          "output_type": "execute_result",
          "data": {
            "text/plain": [
              "battery_power    0\n",
              "blue             0\n",
              "clock_speed      0\n",
              "dual_sim         0\n",
              "fc               0\n",
              "four_g           0\n",
              "int_memory       0\n",
              "m_dep            0\n",
              "mobile_wt        0\n",
              "n_cores          0\n",
              "pc               0\n",
              "px_height        0\n",
              "px_width         0\n",
              "ram              0\n",
              "sc_h             0\n",
              "sc_w             0\n",
              "talk_time        0\n",
              "three_g          0\n",
              "touch_screen     0\n",
              "wifi             0\n",
              "dtype: int64"
            ]
          },
          "metadata": {},
          "execution_count": 562
        }
      ]
    },
    {
      "cell_type": "code",
      "source": [
        "# check missing values in numerical variables in X_test\n",
        "\n",
        "X_test.isnull().sum()"
      ],
      "metadata": {
        "colab": {
          "base_uri": "https://localhost:8080/"
        },
        "id": "EHSP776LTeG9",
        "outputId": "0afccc4d-d0d9-4437-f69a-1a27fc61be58"
      },
      "execution_count": 563,
      "outputs": [
        {
          "output_type": "execute_result",
          "data": {
            "text/plain": [
              "battery_power    0\n",
              "blue             0\n",
              "clock_speed      0\n",
              "dual_sim         0\n",
              "fc               0\n",
              "four_g           0\n",
              "int_memory       0\n",
              "m_dep            0\n",
              "mobile_wt        0\n",
              "n_cores          0\n",
              "pc               0\n",
              "px_height        0\n",
              "px_width         0\n",
              "ram              0\n",
              "sc_h             0\n",
              "sc_w             0\n",
              "talk_time        0\n",
              "three_g          0\n",
              "touch_screen     0\n",
              "wifi             0\n",
              "dtype: int64"
            ]
          },
          "metadata": {},
          "execution_count": 563
        }
      ]
    },
    {
      "cell_type": "markdown",
      "source": [
        "**KNN classification**"
      ],
      "metadata": {
        "id": "bp61RiWqSsyt"
      }
    },
    {
      "cell_type": "code",
      "source": [
        "from sklearn.neighbors import KNeighborsClassifier\n",
        "\n",
        "#import  metrics models to check the accuracy\n",
        "from sklearn import metrics\n",
        "#Try running from k=1 to 25 and record testing accuracy\n",
        "k_range =range(1,26)\n",
        "scores={}\n",
        "scores_list =[]\n",
        "for k in k_range:\n",
        "  knn=KNeighborsClassifier(n_neighbors=k)\n",
        "  knn.fit (X_train,y_train)\n",
        "  y_pred = knn.predict(X_test)\n",
        "  scores[k]= metrics.accuracy_score (y_test, y_pred)\n",
        "  scores_list.append(metrics.accuracy_score(y_test,y_pred))\n"
      ],
      "metadata": {
        "id": "Sd5rfMAc8A61"
      },
      "execution_count": 564,
      "outputs": []
    },
    {
      "cell_type": "markdown",
      "source": [
        "**Plot the relationship between the values of K**"
      ],
      "metadata": {
        "id": "a6WG8c7mSkEW"
      }
    },
    {
      "cell_type": "code",
      "source": [
        "%matplotlib inline\n",
        "import matplotlib.pyplot as plt\n",
        "\n",
        "plt.plot(k_range,scores_list)\n",
        "plt.xlabel('Values of K for KNN')\n",
        "plt.ylabel('Testing Accuracy')"
      ],
      "metadata": {
        "colab": {
          "base_uri": "https://localhost:8080/",
          "height": 296
        },
        "id": "mkMQW3bIIzag",
        "outputId": "47c023c9-19d5-42b9-b3dd-5b00c6d46f9c"
      },
      "execution_count": 565,
      "outputs": [
        {
          "output_type": "execute_result",
          "data": {
            "text/plain": [
              "Text(0, 0.5, 'Testing Accuracy')"
            ]
          },
          "metadata": {},
          "execution_count": 565
        },
        {
          "output_type": "display_data",
          "data": {
            "text/plain": [
              "<Figure size 432x288 with 1 Axes>"
            ],
            "image/png": "[encoded data removed]"
          },
          "metadata": {
            "needs_background": "light"
          }
        }
      ]
    },
    {
      "cell_type": "code",
      "source": [
        "scores"
      ],
      "metadata": {
        "colab": {
          "base_uri": "https://localhost:8080/"
        },
        "id": "GqZ1vtgOT2As",
        "outputId": "94e9b1b9-9b74-45b2-982e-4d643970ad71"
      },
      "execution_count": 566,
      "outputs": [
        {
          "output_type": "execute_result",
          "data": {
            "text/plain": [
              "{1: 0.9075,\n",
              " 2: 0.9,\n",
              " 3: 0.9375,\n",
              " 4: 0.9125,\n",
              " 5: 0.9275,\n",
              " 6: 0.9375,\n",
              " 7: 0.9525,\n",
              " 8: 0.95,\n",
              " 9: 0.9425,\n",
              " 10: 0.9525,\n",
              " 11: 0.95,\n",
              " 12: 0.95,\n",
              " 13: 0.9525,\n",
              " 14: 0.95,\n",
              " 15: 0.955,\n",
              " 16: 0.955,\n",
              " 17: 0.9525,\n",
              " 18: 0.955,\n",
              " 19: 0.9475,\n",
              " 20: 0.9525,\n",
              " 21: 0.95,\n",
              " 22: 0.9475,\n",
              " 23: 0.95,\n",
              " 24: 0.9525,\n",
              " 25: 0.9475}"
            ]
          },
          "metadata": {},
          "execution_count": 566
        }
      ]
    },
    {
      "cell_type": "markdown",
      "source": [
        "**Fitting K value to 7**"
      ],
      "metadata": {
        "id": "kLWr0PxQ8BO0"
      }
    },
    {
      "cell_type": "code",
      "source": [
        "knn = KNeighborsClassifier(n_neighbors=7)\n",
        "knn.fit(X_train,y_train)"
      ],
      "metadata": {
        "colab": {
          "base_uri": "https://localhost:8080/"
        },
        "id": "bNKvOWuRUMJt",
        "outputId": "c50c9816-7e1b-449a-d06f-fd761fe2e8ff"
      },
      "execution_count": 567,
      "outputs": [
        {
          "output_type": "execute_result",
          "data": {
            "text/plain": [
              "KNeighborsClassifier(n_neighbors=7)"
            ]
          },
          "metadata": {},
          "execution_count": 567
        }
      ]
    },
    {
      "cell_type": "markdown",
      "source": [
        "**Predicted values**"
      ],
      "metadata": {
        "id": "MX2nwgrZUSap"
      }
    },
    {
      "cell_type": "code",
      "source": [
        "y_pred =knn.predict(X_test)\n",
        "y_pred\n"
      ],
      "metadata": {
        "colab": {
          "base_uri": "https://localhost:8080/"
        },
        "id": "rANEYdsLUSop",
        "outputId": "3683978e-15d1-4065-f5fb-bc1177fd6580"
      },
      "execution_count": 568,
      "outputs": [
        {
          "output_type": "execute_result",
          "data": {
            "text/plain": [
              "array([3, 0, 2, 2, 2, 0, 0, 3, 3, 1, 0, 3, 0, 2, 3, 0, 3, 2, 2, 1, 0, 0,\n",
              "       3, 1, 2, 2, 3, 1, 3, 1, 1, 0, 2, 0, 1, 3, 0, 0, 3, 3, 3, 1, 3, 3,\n",
              "       1, 3, 0, 1, 3, 1, 1, 3, 0, 3, 0, 2, 2, 2, 0, 3, 3, 1, 3, 2, 1, 2,\n",
              "       3, 2, 2, 2, 3, 2, 1, 0, 1, 3, 2, 1, 1, 2, 3, 3, 3, 0, 0, 0, 2, 1,\n",
              "       2, 3, 1, 2, 2, 1, 0, 3, 3, 3, 0, 3, 1, 1, 3, 1, 3, 2, 2, 3, 2, 3,\n",
              "       3, 0, 0, 1, 3, 3, 0, 0, 1, 0, 0, 3, 2, 2, 1, 2, 1, 1, 0, 2, 1, 3,\n",
              "       2, 3, 3, 3, 3, 2, 0, 1, 1, 2, 1, 3, 0, 3, 0, 0, 2, 0, 1, 1, 1, 1,\n",
              "       3, 0, 0, 3, 1, 3, 2, 1, 3, 1, 2, 3, 3, 2, 1, 0, 3, 2, 2, 3, 3, 0,\n",
              "       2, 2, 3, 0, 2, 1, 0, 1, 2, 1, 2, 0, 3, 3, 1, 1, 0, 2, 3, 0, 1, 3,\n",
              "       2, 0, 3, 3, 3, 1, 2, 3, 3, 3, 0, 0, 0, 2, 3, 3, 0, 0, 1, 3, 1, 3,\n",
              "       3, 3, 0, 0, 2, 2, 3, 1, 0, 2, 0, 0, 0, 3, 3, 0, 2, 2, 1, 1, 0, 2,\n",
              "       3, 3, 0, 0, 1, 3, 3, 1, 3, 0, 3, 1, 1, 0, 2, 3, 3, 2, 0, 0, 1, 2,\n",
              "       3, 2, 2, 3, 1, 1, 0, 3, 3, 2, 1, 3, 3, 2, 2, 1, 0, 2, 2, 1, 0, 0,\n",
              "       2, 2, 2, 2, 0, 1, 3, 0, 1, 2, 3, 0, 2, 0, 1, 1, 3, 0, 0, 1, 3, 1,\n",
              "       2, 0, 2, 0, 3, 0, 3, 3, 2, 3, 1, 2, 2, 1, 1, 1, 0, 1, 0, 3, 1, 0,\n",
              "       3, 0, 0, 0, 2, 0, 3, 1, 2, 0, 1, 3, 0, 2, 2, 1, 2, 1, 1, 0, 2, 0,\n",
              "       0, 3, 1, 2, 3, 2, 2, 0, 3, 2, 2, 1, 3, 2, 3, 3, 3, 0, 2, 0, 3, 0,\n",
              "       1, 1, 2, 2, 1, 2, 1, 2, 0, 1, 2, 3, 0, 0, 1, 3, 0, 3, 0, 1, 2, 1,\n",
              "       1, 0, 3, 1])"
            ]
          },
          "metadata": {},
          "execution_count": 568
        }
      ]
    },
    {
      "cell_type": "markdown",
      "source": [
        "**Evaluating the KNN classifier**"
      ],
      "metadata": {
        "id": "xfQIl647ZPeN"
      }
    },
    {
      "cell_type": "code",
      "source": [
        "acc =  knn.score(X_test, y_test)\n",
        "print(acc)"
      ],
      "metadata": {
        "colab": {
          "base_uri": "https://localhost:8080/"
        },
        "id": "POMbFItdWvw4",
        "outputId": "a8ca5481-5e46-4201-c60f-61515faf0980"
      },
      "execution_count": 569,
      "outputs": [
        {
          "output_type": "stream",
          "name": "stdout",
          "text": [
            "0.9525\n"
          ]
        }
      ]
    },
    {
      "cell_type": "code",
      "source": [
        "print(\"Accuracy:\",metrics.accuracy_score(y_test, y_pred))"
      ],
      "metadata": {
        "colab": {
          "base_uri": "https://localhost:8080/"
        },
        "id": "c-kWuq2xqm1x",
        "outputId": "aacdfa1b-1dff-41f7-922d-43dcb64c9413"
      },
      "execution_count": 570,
      "outputs": [
        {
          "output_type": "stream",
          "name": "stdout",
          "text": [
            "Accuracy: 0.9525\n"
          ]
        }
      ]
    },
    {
      "cell_type": "code",
      "source": [
        "from sklearn.metrics import confusion_matrix\n",
        "\n",
        "#Generate the confusion matrix\n",
        "cf_matrix = confusion_matrix(y_test, y_pred)\n",
        "\n",
        "print(cf_matrix)"
      ],
      "metadata": {
        "colab": {
          "base_uri": "https://localhost:8080/"
        },
        "id": "ZA3uHwyTMznK",
        "outputId": "15df50ce-9b6f-4559-cfda-23dd580f6678"
      },
      "execution_count": 571,
      "outputs": [
        {
          "output_type": "stream",
          "name": "stdout",
          "text": [
            "[[ 95   0   0   0]\n",
            " [  3  87   2   0]\n",
            " [  0   5  89   5]\n",
            " [  0   0   4 110]]\n"
          ]
        }
      ]
    },
    {
      "cell_type": "code",
      "source": [
        "from sklearn.metrics import classification_report\n",
        "#importing Seaborn's to use the heatmap \n",
        "import seaborn as sns\n",
        "\n",
        "# Adding classes names for better interpretation\n",
        "classes_names = ['0','1','2', '3']\n",
        "cm = pd.DataFrame(cf_matrix,columns=classes_names, index = classes_names)\n",
        "                  \n",
        "# Seaborn's heatmap to better visualize the confusion matrix\n",
        "sns.heatmap(cm, annot=True, fmt='d');\n",
        "\n",
        "print(classification_report(y_test, y_pred))"
      ],
      "metadata": {
        "colab": {
          "base_uri": "https://localhost:8080/",
          "height": 456
        },
        "id": "fW0XN1e5Vd_k",
        "outputId": "99831492-0c7d-4780-ad37-098f2b650342"
      },
      "execution_count": 572,
      "outputs": [
        {
          "output_type": "stream",
          "name": "stdout",
          "text": [
            "              precision    recall  f1-score   support\n",
            "\n",
            "           0       0.97      1.00      0.98        95\n",
            "           1       0.95      0.95      0.95        92\n",
            "           2       0.94      0.90      0.92        99\n",
            "           3       0.96      0.96      0.96       114\n",
            "\n",
            "    accuracy                           0.95       400\n",
            "   macro avg       0.95      0.95      0.95       400\n",
            "weighted avg       0.95      0.95      0.95       400\n",
            "\n"
          ]
        },
        {
          "output_type": "display_data",
          "data": {
            "text/plain": [
              "<Figure size 432x288 with 2 Axes>"
            ],
            "image/png": "[encoded data removed]"
          },
          "metadata": {
            "needs_background": "light"
          }
        }
      ]
    },
    {
      "cell_type": "markdown",
      "source": [
        "The results show that KNN was able to classify all the 400 records in the test set with 95% accuracy, which is above average. The supports are fairly equal (even distribution of classes in the dataset), so the weighted F1 and unweighted F1 are going to be roughly the same.\n",
        "\n",
        "We can also see the result of the metrics for each of the 4 classes. From that, we are able to notice that *price range 2* had the lowest precision, lowest recall, and lowest f1-score.We have *price range 0* with the best scores.\n",
        "\n",
        "By looking at the confusion matrix, we can see that:\n",
        "\n",
        "*price range 0* was correctly classified as *price range 0* in all 95 cases.\n",
        "\n",
        "*price range 1* was correctly classified only in 87 cases out of 92 cases.\n",
        "\n",
        "*price range 2* was correctly classified in 89 cases out of 99 cases.\n",
        "\n",
        "*price range 3* was correctly classified in 110 cases out of 114 cases.\n",
        "\n",
        "Also, notice that the diagonal displays the true positive values, when looking at it, it is plain to see that *price range 1* and *price range 2*  have the least correctly predicted values whilst *price range 3* have highest correctly predicted values."
      ],
      "metadata": {
        "id": "JOD6zyZKXeke"
      }
    },
    {
      "cell_type": "markdown",
      "source": [
        "**Finding the Best K for KNN Classification**"
      ],
      "metadata": {
        "id": "nCnoYyMBvNnj"
      }
    },
    {
      "cell_type": "code",
      "source": [
        "from sklearn.metrics import f1_score\n",
        "\n",
        "f1s = []\n",
        "\n",
        "# Calculating f1 score for K values between 1 and 40\n",
        "for i in range(1, 40):\n",
        "    knn = KNeighborsClassifier(n_neighbors=i)\n",
        "    knn.fit(X_train, y_train)\n",
        "    pred_i = knn.predict(X_test)\n",
        "    # using average='weighted' to calculate a weighted average for the 4 classes \n",
        "    f1s.append(f1_score(y_test, pred_i, average='weighted'))"
      ],
      "metadata": {
        "id": "8fdrveeovQGH"
      },
      "execution_count": 573,
      "outputs": []
    },
    {
      "cell_type": "code",
      "source": [
        "plt.figure(figsize=(12, 6))\n",
        "plt.plot(range(1, 40), f1s, color='red', linestyle='dashed', marker='o',\n",
        "         markerfacecolor='blue', markersize=10)\n",
        "plt.title('F1 Score K Value')\n",
        "plt.xlabel('K Value')\n",
        "plt.ylabel('F1 Score')"
      ],
      "metadata": {
        "colab": {
          "base_uri": "https://localhost:8080/",
          "height": 421
        },
        "id": "6dxFWp3jvYRB",
        "outputId": "135d683b-280e-4929-febe-77de45dd1a80"
      },
      "execution_count": 574,
      "outputs": [
        {
          "output_type": "execute_result",
          "data": {
            "text/plain": [
              "Text(0, 0.5, 'F1 Score')"
            ]
          },
          "metadata": {},
          "execution_count": 574
        },
        {
          "output_type": "display_data",
          "data": {
            "text/plain": [
              "<Figure size 864x432 with 1 Axes>"
            ],
            "image/png": "[encoded data removed]"
          },
          "metadata": {
            "needs_background": "light"
          }
        }
      ]
    },
    {
      "cell_type": "markdown",
      "source": [
        "From the output, we can see that the f1-score is the highest when the value of the K is 15. Let's retrain our classifier with 15 neighbors and see what it does to our classification report results."
      ],
      "metadata": {
        "id": "nl9hCIQhvw5U"
      }
    },
    {
      "cell_type": "code",
      "source": [
        "classifier15 = KNeighborsClassifier(n_neighbors=15)\n",
        "classifier15.fit(X_train, y_train)\n",
        "y_pred15 = classifier15.predict(X_test)\n",
        "print(classification_report(y_test, y_pred15))"
      ],
      "metadata": {
        "colab": {
          "base_uri": "https://localhost:8080/"
        },
        "id": "k6hf9wjXv1yX",
        "outputId": "bbdfe3bf-f707-40f8-8171-b3afb5f543d4"
      },
      "execution_count": 575,
      "outputs": [
        {
          "output_type": "stream",
          "name": "stdout",
          "text": [
            "              precision    recall  f1-score   support\n",
            "\n",
            "           0       0.98      0.98      0.98        95\n",
            "           1       0.95      0.97      0.96        92\n",
            "           2       0.94      0.92      0.93        99\n",
            "           3       0.96      0.96      0.96       114\n",
            "\n",
            "    accuracy                           0.95       400\n",
            "   macro avg       0.96      0.96      0.96       400\n",
            "weighted avg       0.95      0.95      0.95       400\n",
            "\n"
          ]
        }
      ]
    },
    {
      "cell_type": "markdown",
      "source": [
        "Our metrics have improved with 15 neighbors, we have 95% accuracy and higher precision, recall, and f1-scores.\n",
        "And this will overcome overfitting problem too by not keeping K value too smaller."
      ],
      "metadata": {
        "id": "hg80r2rEyHvw"
      }
    },
    {
      "cell_type": "markdown",
      "source": [
        "### ***Question 2*** - **Multi-layer neural network using Keras**\n"
      ],
      "metadata": {
        "id": "LcVwOON3sItv"
      }
    },
    {
      "cell_type": "code",
      "source": [
        "from tensorflow import keras\n",
        "#Dependencies\n",
        "import numpy as np\n",
        "import pandas as pd"
      ],
      "metadata": {
        "id": "X-77TGzIxPB-"
      },
      "execution_count": 576,
      "outputs": []
    },
    {
      "cell_type": "code",
      "source": [
        "#Changing pandas dataframe to numpy array\n",
        "X = mob_dataset.iloc[:,:20].values\n",
        "y = mob_dataset.iloc[:,20:21].values"
      ],
      "metadata": {
        "id": "09DJ9Mkc5oTM"
      },
      "execution_count": 577,
      "outputs": []
    },
    {
      "cell_type": "markdown",
      "source": [
        "**Normalizing**"
      ],
      "metadata": {
        "id": "QYmDrGXK_bww"
      }
    },
    {
      "cell_type": "code",
      "source": [
        "from sklearn.preprocessing import StandardScaler\n",
        "sc = StandardScaler()\n",
        "X = sc.fit_transform(X)\n",
        "X"
      ],
      "metadata": {
        "colab": {
          "base_uri": "https://localhost:8080/"
        },
        "id": "sn8IM5XL1Yay",
        "outputId": "611a18fd-ebfd-4c2a-d0a3-d5e8aa4fdcaf"
      },
      "execution_count": 578,
      "outputs": [
        {
          "output_type": "execute_result",
          "data": {
            "text/plain": [
              "array([[-0.90259726, -0.9900495 ,  0.83077942, ..., -1.78686097,\n",
              "        -1.00601811,  0.98609664],\n",
              "       [-0.49513857,  1.0100505 , -1.2530642 , ...,  0.55964063,\n",
              "         0.99401789, -1.01409939],\n",
              "       [-1.5376865 ,  1.0100505 , -1.2530642 , ...,  0.55964063,\n",
              "         0.99401789, -1.01409939],\n",
              "       ...,\n",
              "       [ 1.53077336, -0.9900495 , -0.76274805, ...,  0.55964063,\n",
              "         0.99401789, -1.01409939],\n",
              "       [ 0.62252745, -0.9900495 , -0.76274805, ...,  0.55964063,\n",
              "         0.99401789,  0.98609664],\n",
              "       [-1.65833069,  1.0100505 ,  0.58562134, ...,  0.55964063,\n",
              "         0.99401789,  0.98609664]])"
            ]
          },
          "metadata": {},
          "execution_count": 578
        }
      ]
    },
    {
      "cell_type": "markdown",
      "source": [
        "**One hot encode the classes**"
      ],
      "metadata": {
        "id": "CtKfQmNm_VKW"
      }
    },
    {
      "cell_type": "code",
      "source": [
        "from sklearn.preprocessing import OneHotEncoder\n",
        "ohe = OneHotEncoder()\n",
        "y = ohe.fit_transform(y).toarray()\n",
        "y"
      ],
      "metadata": {
        "colab": {
          "base_uri": "https://localhost:8080/"
        },
        "id": "RPzVfXKM5bsx",
        "outputId": "dd241d0a-8fe3-4083-c0bb-199b1ec3b1b9"
      },
      "execution_count": 579,
      "outputs": [
        {
          "output_type": "execute_result",
          "data": {
            "text/plain": [
              "array([[0., 1., 0., 0.],\n",
              "       [0., 0., 1., 0.],\n",
              "       [0., 0., 1., 0.],\n",
              "       ...,\n",
              "       [0., 0., 0., 1.],\n",
              "       [1., 0., 0., 0.],\n",
              "       [0., 0., 0., 1.]])"
            ]
          },
          "metadata": {},
          "execution_count": 579
        }
      ]
    },
    {
      "cell_type": "markdown",
      "source": [
        "**Split dataset into training and testing**"
      ],
      "metadata": {
        "id": "qD2X6HLs_NqF"
      }
    },
    {
      "cell_type": "code",
      "source": [
        "from sklearn.model_selection import train_test_split\n",
        "X_train,X_test,y_train,y_test = train_test_split(X,y,test_size = 0.2,random_state=0)"
      ],
      "metadata": {
        "id": "LU5f6ULz86Rw"
      },
      "execution_count": 580,
      "outputs": []
    },
    {
      "cell_type": "markdown",
      "source": [
        "**Building Neural Network**"
      ],
      "metadata": {
        "id": "5xdlR9XW-0zC"
      }
    },
    {
      "cell_type": "code",
      "source": [
        "from keras.models import Sequential\n",
        "from keras.layers import Dense,Activation\n",
        "\n",
        "model = Sequential()\n",
        "model.add(Dense(16, input_dim=20, activation='relu'))\n",
        "model.add(Dense(4, activation='softmax'))\n",
        "model.summary()"
      ],
      "metadata": {
        "colab": {
          "base_uri": "https://localhost:8080/"
        },
        "id": "SRADi5Zc9wlY",
        "outputId": "fca42c2f-2454-4a6d-c417-96ec752486b9"
      },
      "execution_count": 581,
      "outputs": [
        {
          "output_type": "stream",
          "name": "stdout",
          "text": [
            "Model: \"sequential_13\"\n",
            "_________________________________________________________________\n",
            " Layer (type)                Output Shape              Param #   \n",
            "=================================================================\n",
            " dense_26 (Dense)            (None, 16)                336       \n",
            "                                                                 \n",
            " dense_27 (Dense)            (None, 4)                 68        \n",
            "                                                                 \n",
            "=================================================================\n",
            "Total params: 404\n",
            "Trainable params: 404\n",
            "Non-trainable params: 0\n",
            "_________________________________________________________________\n"
          ]
        }
      ]
    },
    {
      "cell_type": "markdown",
      "source": [
        "**Compiling the model**\n"
      ],
      "metadata": {
        "id": "YPCjGmxg-kOi"
      }
    },
    {
      "cell_type": "code",
      "source": [
        "from keras import optimizers\n",
        "OPTIMIZER= optimizers.SGD(learning_rate=0.1)\n",
        "model.compile(loss='categorical_crossentropy', optimizer=OPTIMIZER, metrics=['accuracy'])"
      ],
      "metadata": {
        "id": "msncL6Zg-fzD"
      },
      "execution_count": 582,
      "outputs": []
    },
    {
      "cell_type": "markdown",
      "source": [
        "**Fitting the model**"
      ],
      "metadata": {
        "id": "rcrCcaMB_oYF"
      }
    },
    {
      "cell_type": "code",
      "source": [
        "BATCH_SIZE = 128\n",
        "EPOCHES = 200\n",
        "VERBOSE = 1\n",
        "VALIDATION_SPLIT = 0.2\n",
        "model_history = model.fit(x=X_train, y=y_train, batch_size=BATCH_SIZE, \n",
        "                          epochs=EPOCHES, verbose=VERBOSE, validation_split=VALIDATION_SPLIT)"
      ],
      "metadata": {
        "colab": {
          "base_uri": "https://localhost:8080/"
        },
        "id": "ugegRPIDV1Me",
        "outputId": "1e2addcd-cf12-4432-c029-d8486221cc2d"
      },
      "execution_count": 583,
      "outputs": [
        {
          "output_type": "stream",
          "name": "stdout",
          "text": [
            "Epoch 1/200\n",
            "10/10 [==============================] - 1s 24ms/step - loss: 1.6198 - accuracy: 0.2375 - val_loss: 1.4577 - val_accuracy: 0.2844\n",
            "Epoch 2/200\n",
            "10/10 [==============================] - 0s 7ms/step - loss: 1.3764 - accuracy: 0.3219 - val_loss: 1.3144 - val_accuracy: 0.3531\n",
            "Epoch 3/200\n",
            "10/10 [==============================] - 0s 5ms/step - loss: 1.2505 - accuracy: 0.3969 - val_loss: 1.2133 - val_accuracy: 0.4062\n",
            "Epoch 4/200\n",
            "10/10 [==============================] - 0s 5ms/step - loss: 1.1523 - accuracy: 0.4477 - val_loss: 1.1234 - val_accuracy: 0.4656\n",
            "Epoch 5/200\n",
            "10/10 [==============================] - 0s 7ms/step - loss: 1.0651 - accuracy: 0.5094 - val_loss: 1.0395 - val_accuracy: 0.5219\n",
            "Epoch 6/200\n",
            "10/10 [==============================] - 0s 6ms/step - loss: 0.9868 - accuracy: 0.5758 - val_loss: 0.9663 - val_accuracy: 0.5875\n",
            "Epoch 7/200\n",
            "10/10 [==============================] - 0s 6ms/step - loss: 0.9161 - accuracy: 0.6094 - val_loss: 0.9003 - val_accuracy: 0.6344\n",
            "Epoch 8/200\n",
            "10/10 [==============================] - 0s 7ms/step - loss: 0.8533 - accuracy: 0.6453 - val_loss: 0.8435 - val_accuracy: 0.6656\n",
            "Epoch 9/200\n",
            "10/10 [==============================] - 0s 6ms/step - loss: 0.7981 - accuracy: 0.6805 - val_loss: 0.7927 - val_accuracy: 0.6875\n",
            "Epoch 10/200\n",
            "10/10 [==============================] - 0s 7ms/step - loss: 0.7489 - accuracy: 0.7070 - val_loss: 0.7473 - val_accuracy: 0.7000\n",
            "Epoch 11/200\n",
            "10/10 [==============================] - 0s 7ms/step - loss: 0.7061 - accuracy: 0.7320 - val_loss: 0.7077 - val_accuracy: 0.7250\n",
            "Epoch 12/200\n",
            "10/10 [==============================] - 0s 6ms/step - loss: 0.6674 - accuracy: 0.7539 - val_loss: 0.6723 - val_accuracy: 0.7469\n",
            "Epoch 13/200\n",
            "10/10 [==============================] - 0s 7ms/step - loss: 0.6333 - accuracy: 0.7742 - val_loss: 0.6427 - val_accuracy: 0.7563\n",
            "Epoch 14/200\n",
            "10/10 [==============================] - 0s 7ms/step - loss: 0.6028 - accuracy: 0.7945 - val_loss: 0.6138 - val_accuracy: 0.7625\n",
            "Epoch 15/200\n",
            "10/10 [==============================] - 0s 7ms/step - loss: 0.5747 - accuracy: 0.8125 - val_loss: 0.5887 - val_accuracy: 0.7812\n",
            "Epoch 16/200\n",
            "10/10 [==============================] - 0s 7ms/step - loss: 0.5496 - accuracy: 0.8328 - val_loss: 0.5655 - val_accuracy: 0.7906\n",
            "Epoch 17/200\n",
            "10/10 [==============================] - 0s 5ms/step - loss: 0.5271 - accuracy: 0.8430 - val_loss: 0.5444 - val_accuracy: 0.7969\n",
            "Epoch 18/200\n",
            "10/10 [==============================] - 0s 5ms/step - loss: 0.5063 - accuracy: 0.8648 - val_loss: 0.5254 - val_accuracy: 0.8125\n",
            "Epoch 19/200\n",
            "10/10 [==============================] - 0s 8ms/step - loss: 0.4869 - accuracy: 0.8703 - val_loss: 0.5071 - val_accuracy: 0.8219\n",
            "Epoch 20/200\n",
            "10/10 [==============================] - 0s 7ms/step - loss: 0.4691 - accuracy: 0.8766 - val_loss: 0.4907 - val_accuracy: 0.8313\n",
            "Epoch 21/200\n",
            "10/10 [==============================] - 0s 5ms/step - loss: 0.4525 - accuracy: 0.8828 - val_loss: 0.4754 - val_accuracy: 0.8344\n",
            "Epoch 22/200\n",
            "10/10 [==============================] - 0s 6ms/step - loss: 0.4369 - accuracy: 0.8969 - val_loss: 0.4604 - val_accuracy: 0.8438\n",
            "Epoch 23/200\n",
            "10/10 [==============================] - 0s 5ms/step - loss: 0.4230 - accuracy: 0.8969 - val_loss: 0.4475 - val_accuracy: 0.8531\n",
            "Epoch 24/200\n",
            "10/10 [==============================] - 0s 7ms/step - loss: 0.4093 - accuracy: 0.8984 - val_loss: 0.4344 - val_accuracy: 0.8594\n",
            "Epoch 25/200\n",
            "10/10 [==============================] - 0s 6ms/step - loss: 0.3968 - accuracy: 0.9008 - val_loss: 0.4224 - val_accuracy: 0.8781\n",
            "Epoch 26/200\n",
            "10/10 [==============================] - 0s 5ms/step - loss: 0.3857 - accuracy: 0.9117 - val_loss: 0.4109 - val_accuracy: 0.8875\n",
            "Epoch 27/200\n",
            "10/10 [==============================] - 0s 5ms/step - loss: 0.3743 - accuracy: 0.9102 - val_loss: 0.4007 - val_accuracy: 0.8844\n",
            "Epoch 28/200\n",
            "10/10 [==============================] - 0s 6ms/step - loss: 0.3645 - accuracy: 0.9180 - val_loss: 0.3906 - val_accuracy: 0.8906\n",
            "Epoch 29/200\n",
            "10/10 [==============================] - 0s 6ms/step - loss: 0.3546 - accuracy: 0.9187 - val_loss: 0.3811 - val_accuracy: 0.9000\n",
            "Epoch 30/200\n",
            "10/10 [==============================] - 0s 7ms/step - loss: 0.3447 - accuracy: 0.9219 - val_loss: 0.3726 - val_accuracy: 0.9031\n",
            "Epoch 31/200\n",
            "10/10 [==============================] - 0s 7ms/step - loss: 0.3362 - accuracy: 0.9258 - val_loss: 0.3639 - val_accuracy: 0.9062\n",
            "Epoch 32/200\n",
            "10/10 [==============================] - 0s 4ms/step - loss: 0.3286 - accuracy: 0.9266 - val_loss: 0.3561 - val_accuracy: 0.9094\n",
            "Epoch 33/200\n",
            "10/10 [==============================] - 0s 5ms/step - loss: 0.3201 - accuracy: 0.9266 - val_loss: 0.3487 - val_accuracy: 0.9125\n",
            "Epoch 34/200\n",
            "10/10 [==============================] - 0s 5ms/step - loss: 0.3123 - accuracy: 0.9305 - val_loss: 0.3419 - val_accuracy: 0.9094\n",
            "Epoch 35/200\n",
            "10/10 [==============================] - 0s 5ms/step - loss: 0.3049 - accuracy: 0.9305 - val_loss: 0.3345 - val_accuracy: 0.9094\n",
            "Epoch 36/200\n",
            "10/10 [==============================] - 0s 5ms/step - loss: 0.2983 - accuracy: 0.9305 - val_loss: 0.3282 - val_accuracy: 0.9125\n",
            "Epoch 37/200\n",
            "10/10 [==============================] - 0s 9ms/step - loss: 0.2917 - accuracy: 0.9328 - val_loss: 0.3221 - val_accuracy: 0.9187\n",
            "Epoch 38/200\n",
            "10/10 [==============================] - 0s 5ms/step - loss: 0.2859 - accuracy: 0.9344 - val_loss: 0.3160 - val_accuracy: 0.9156\n",
            "Epoch 39/200\n",
            "10/10 [==============================] - 0s 5ms/step - loss: 0.2792 - accuracy: 0.9352 - val_loss: 0.3099 - val_accuracy: 0.9125\n",
            "Epoch 40/200\n",
            "10/10 [==============================] - 0s 5ms/step - loss: 0.2737 - accuracy: 0.9375 - val_loss: 0.3045 - val_accuracy: 0.9187\n",
            "Epoch 41/200\n",
            "10/10 [==============================] - 0s 8ms/step - loss: 0.2685 - accuracy: 0.9367 - val_loss: 0.2990 - val_accuracy: 0.9156\n",
            "Epoch 42/200\n",
            "10/10 [==============================] - 0s 5ms/step - loss: 0.2627 - accuracy: 0.9406 - val_loss: 0.2940 - val_accuracy: 0.9187\n",
            "Epoch 43/200\n",
            "10/10 [==============================] - 0s 7ms/step - loss: 0.2572 - accuracy: 0.9383 - val_loss: 0.2891 - val_accuracy: 0.9219\n",
            "Epoch 44/200\n",
            "10/10 [==============================] - 0s 5ms/step - loss: 0.2524 - accuracy: 0.9414 - val_loss: 0.2846 - val_accuracy: 0.9219\n",
            "Epoch 45/200\n",
            "10/10 [==============================] - 0s 5ms/step - loss: 0.2474 - accuracy: 0.9422 - val_loss: 0.2789 - val_accuracy: 0.9281\n",
            "Epoch 46/200\n",
            "10/10 [==============================] - 0s 5ms/step - loss: 0.2433 - accuracy: 0.9391 - val_loss: 0.2752 - val_accuracy: 0.9219\n",
            "Epoch 47/200\n",
            "10/10 [==============================] - 0s 7ms/step - loss: 0.2387 - accuracy: 0.9438 - val_loss: 0.2700 - val_accuracy: 0.9219\n",
            "Epoch 48/200\n",
            "10/10 [==============================] - 0s 5ms/step - loss: 0.2340 - accuracy: 0.9461 - val_loss: 0.2663 - val_accuracy: 0.9281\n",
            "Epoch 49/200\n",
            "10/10 [==============================] - 0s 6ms/step - loss: 0.2304 - accuracy: 0.9445 - val_loss: 0.2619 - val_accuracy: 0.9250\n",
            "Epoch 50/200\n",
            "10/10 [==============================] - 0s 5ms/step - loss: 0.2258 - accuracy: 0.9477 - val_loss: 0.2574 - val_accuracy: 0.9219\n",
            "Epoch 51/200\n",
            "10/10 [==============================] - 0s 7ms/step - loss: 0.2219 - accuracy: 0.9484 - val_loss: 0.2541 - val_accuracy: 0.9250\n",
            "Epoch 52/200\n",
            "10/10 [==============================] - 0s 6ms/step - loss: 0.2180 - accuracy: 0.9484 - val_loss: 0.2499 - val_accuracy: 0.9281\n",
            "Epoch 53/200\n",
            "10/10 [==============================] - 0s 6ms/step - loss: 0.2141 - accuracy: 0.9523 - val_loss: 0.2457 - val_accuracy: 0.9250\n",
            "Epoch 54/200\n",
            "10/10 [==============================] - 0s 5ms/step - loss: 0.2113 - accuracy: 0.9523 - val_loss: 0.2423 - val_accuracy: 0.9312\n",
            "Epoch 55/200\n",
            "10/10 [==============================] - 0s 7ms/step - loss: 0.2075 - accuracy: 0.9516 - val_loss: 0.2391 - val_accuracy: 0.9281\n",
            "Epoch 56/200\n",
            "10/10 [==============================] - 0s 7ms/step - loss: 0.2045 - accuracy: 0.9523 - val_loss: 0.2358 - val_accuracy: 0.9250\n",
            "Epoch 57/200\n",
            "10/10 [==============================] - 0s 5ms/step - loss: 0.2009 - accuracy: 0.9516 - val_loss: 0.2329 - val_accuracy: 0.9281\n",
            "Epoch 58/200\n",
            "10/10 [==============================] - 0s 6ms/step - loss: 0.1976 - accuracy: 0.9563 - val_loss: 0.2293 - val_accuracy: 0.9312\n",
            "Epoch 59/200\n",
            "10/10 [==============================] - 0s 5ms/step - loss: 0.1951 - accuracy: 0.9508 - val_loss: 0.2259 - val_accuracy: 0.9344\n",
            "Epoch 60/200\n",
            "10/10 [==============================] - 0s 5ms/step - loss: 0.1917 - accuracy: 0.9516 - val_loss: 0.2227 - val_accuracy: 0.9375\n",
            "Epoch 61/200\n",
            "10/10 [==============================] - 0s 7ms/step - loss: 0.1890 - accuracy: 0.9563 - val_loss: 0.2200 - val_accuracy: 0.9312\n",
            "Epoch 62/200\n",
            "10/10 [==============================] - 0s 5ms/step - loss: 0.1863 - accuracy: 0.9563 - val_loss: 0.2171 - val_accuracy: 0.9312\n",
            "Epoch 63/200\n",
            "10/10 [==============================] - 0s 5ms/step - loss: 0.1833 - accuracy: 0.9539 - val_loss: 0.2144 - val_accuracy: 0.9375\n",
            "Epoch 64/200\n",
            "10/10 [==============================] - 0s 7ms/step - loss: 0.1815 - accuracy: 0.9555 - val_loss: 0.2117 - val_accuracy: 0.9344\n",
            "Epoch 65/200\n",
            "10/10 [==============================] - 0s 8ms/step - loss: 0.1786 - accuracy: 0.9547 - val_loss: 0.2093 - val_accuracy: 0.9375\n",
            "Epoch 66/200\n",
            "10/10 [==============================] - 0s 5ms/step - loss: 0.1762 - accuracy: 0.9602 - val_loss: 0.2067 - val_accuracy: 0.9375\n",
            "Epoch 67/200\n",
            "10/10 [==============================] - 0s 5ms/step - loss: 0.1740 - accuracy: 0.9570 - val_loss: 0.2047 - val_accuracy: 0.9375\n",
            "Epoch 68/200\n",
            "10/10 [==============================] - 0s 5ms/step - loss: 0.1718 - accuracy: 0.9609 - val_loss: 0.2027 - val_accuracy: 0.9312\n",
            "Epoch 69/200\n",
            "10/10 [==============================] - 0s 5ms/step - loss: 0.1693 - accuracy: 0.9633 - val_loss: 0.1997 - val_accuracy: 0.9344\n",
            "Epoch 70/200\n",
            "10/10 [==============================] - 0s 5ms/step - loss: 0.1676 - accuracy: 0.9602 - val_loss: 0.1974 - val_accuracy: 0.9375\n",
            "Epoch 71/200\n",
            "10/10 [==============================] - 0s 6ms/step - loss: 0.1650 - accuracy: 0.9625 - val_loss: 0.1954 - val_accuracy: 0.9406\n",
            "Epoch 72/200\n",
            "10/10 [==============================] - 0s 5ms/step - loss: 0.1628 - accuracy: 0.9633 - val_loss: 0.1934 - val_accuracy: 0.9406\n",
            "Epoch 73/200\n",
            "10/10 [==============================] - 0s 8ms/step - loss: 0.1608 - accuracy: 0.9633 - val_loss: 0.1912 - val_accuracy: 0.9438\n",
            "Epoch 74/200\n",
            "10/10 [==============================] - 0s 7ms/step - loss: 0.1591 - accuracy: 0.9625 - val_loss: 0.1892 - val_accuracy: 0.9438\n",
            "Epoch 75/200\n",
            "10/10 [==============================] - 0s 5ms/step - loss: 0.1574 - accuracy: 0.9641 - val_loss: 0.1869 - val_accuracy: 0.9438\n",
            "Epoch 76/200\n",
            "10/10 [==============================] - 0s 5ms/step - loss: 0.1552 - accuracy: 0.9633 - val_loss: 0.1851 - val_accuracy: 0.9438\n",
            "Epoch 77/200\n",
            "10/10 [==============================] - 0s 5ms/step - loss: 0.1538 - accuracy: 0.9648 - val_loss: 0.1836 - val_accuracy: 0.9438\n",
            "Epoch 78/200\n",
            "10/10 [==============================] - 0s 5ms/step - loss: 0.1520 - accuracy: 0.9672 - val_loss: 0.1821 - val_accuracy: 0.9438\n",
            "Epoch 79/200\n",
            "10/10 [==============================] - 0s 5ms/step - loss: 0.1502 - accuracy: 0.9688 - val_loss: 0.1799 - val_accuracy: 0.9406\n",
            "Epoch 80/200\n",
            "10/10 [==============================] - 0s 8ms/step - loss: 0.1485 - accuracy: 0.9688 - val_loss: 0.1784 - val_accuracy: 0.9406\n",
            "Epoch 81/200\n",
            "10/10 [==============================] - 0s 5ms/step - loss: 0.1471 - accuracy: 0.9672 - val_loss: 0.1763 - val_accuracy: 0.9438\n",
            "Epoch 82/200\n",
            "10/10 [==============================] - 0s 7ms/step - loss: 0.1453 - accuracy: 0.9711 - val_loss: 0.1744 - val_accuracy: 0.9406\n",
            "Epoch 83/200\n",
            "10/10 [==============================] - 0s 5ms/step - loss: 0.1438 - accuracy: 0.9703 - val_loss: 0.1733 - val_accuracy: 0.9469\n",
            "Epoch 84/200\n",
            "10/10 [==============================] - 0s 6ms/step - loss: 0.1431 - accuracy: 0.9688 - val_loss: 0.1721 - val_accuracy: 0.9438\n",
            "Epoch 85/200\n",
            "10/10 [==============================] - 0s 5ms/step - loss: 0.1410 - accuracy: 0.9664 - val_loss: 0.1709 - val_accuracy: 0.9469\n",
            "Epoch 86/200\n",
            "10/10 [==============================] - 0s 5ms/step - loss: 0.1398 - accuracy: 0.9734 - val_loss: 0.1692 - val_accuracy: 0.9438\n",
            "Epoch 87/200\n",
            "10/10 [==============================] - 0s 5ms/step - loss: 0.1383 - accuracy: 0.9703 - val_loss: 0.1670 - val_accuracy: 0.9438\n",
            "Epoch 88/200\n",
            "10/10 [==============================] - 0s 5ms/step - loss: 0.1367 - accuracy: 0.9719 - val_loss: 0.1659 - val_accuracy: 0.9500\n",
            "Epoch 89/200\n",
            "10/10 [==============================] - 0s 6ms/step - loss: 0.1350 - accuracy: 0.9750 - val_loss: 0.1650 - val_accuracy: 0.9469\n",
            "Epoch 90/200\n",
            "10/10 [==============================] - 0s 5ms/step - loss: 0.1339 - accuracy: 0.9758 - val_loss: 0.1634 - val_accuracy: 0.9469\n",
            "Epoch 91/200\n",
            "10/10 [==============================] - 0s 5ms/step - loss: 0.1331 - accuracy: 0.9727 - val_loss: 0.1622 - val_accuracy: 0.9500\n",
            "Epoch 92/200\n",
            "10/10 [==============================] - 0s 5ms/step - loss: 0.1312 - accuracy: 0.9742 - val_loss: 0.1610 - val_accuracy: 0.9500\n",
            "Epoch 93/200\n",
            "10/10 [==============================] - 0s 6ms/step - loss: 0.1299 - accuracy: 0.9727 - val_loss: 0.1598 - val_accuracy: 0.9531\n",
            "Epoch 94/200\n",
            "10/10 [==============================] - 0s 7ms/step - loss: 0.1287 - accuracy: 0.9750 - val_loss: 0.1588 - val_accuracy: 0.9531\n",
            "Epoch 95/200\n",
            "10/10 [==============================] - 0s 7ms/step - loss: 0.1277 - accuracy: 0.9742 - val_loss: 0.1578 - val_accuracy: 0.9531\n",
            "Epoch 96/200\n",
            "10/10 [==============================] - 0s 6ms/step - loss: 0.1266 - accuracy: 0.9766 - val_loss: 0.1560 - val_accuracy: 0.9531\n",
            "Epoch 97/200\n",
            "10/10 [==============================] - 0s 7ms/step - loss: 0.1256 - accuracy: 0.9742 - val_loss: 0.1549 - val_accuracy: 0.9531\n",
            "Epoch 98/200\n",
            "10/10 [==============================] - 0s 7ms/step - loss: 0.1244 - accuracy: 0.9773 - val_loss: 0.1540 - val_accuracy: 0.9531\n",
            "Epoch 99/200\n",
            "10/10 [==============================] - 0s 5ms/step - loss: 0.1234 - accuracy: 0.9758 - val_loss: 0.1531 - val_accuracy: 0.9531\n",
            "Epoch 100/200\n",
            "10/10 [==============================] - 0s 5ms/step - loss: 0.1225 - accuracy: 0.9758 - val_loss: 0.1520 - val_accuracy: 0.9531\n",
            "Epoch 101/200\n",
            "10/10 [==============================] - 0s 6ms/step - loss: 0.1208 - accuracy: 0.9773 - val_loss: 0.1512 - val_accuracy: 0.9594\n",
            "Epoch 102/200\n",
            "10/10 [==============================] - 0s 6ms/step - loss: 0.1201 - accuracy: 0.9750 - val_loss: 0.1501 - val_accuracy: 0.9563\n",
            "Epoch 103/200\n",
            "10/10 [==============================] - 0s 6ms/step - loss: 0.1190 - accuracy: 0.9773 - val_loss: 0.1493 - val_accuracy: 0.9531\n",
            "Epoch 104/200\n",
            "10/10 [==============================] - 0s 5ms/step - loss: 0.1181 - accuracy: 0.9789 - val_loss: 0.1482 - val_accuracy: 0.9563\n",
            "Epoch 105/200\n",
            "10/10 [==============================] - 0s 8ms/step - loss: 0.1170 - accuracy: 0.9789 - val_loss: 0.1475 - val_accuracy: 0.9563\n",
            "Epoch 106/200\n",
            "10/10 [==============================] - 0s 6ms/step - loss: 0.1162 - accuracy: 0.9781 - val_loss: 0.1467 - val_accuracy: 0.9594\n",
            "Epoch 107/200\n",
            "10/10 [==============================] - 0s 7ms/step - loss: 0.1155 - accuracy: 0.9781 - val_loss: 0.1462 - val_accuracy: 0.9531\n",
            "Epoch 108/200\n",
            "10/10 [==============================] - 0s 7ms/step - loss: 0.1146 - accuracy: 0.9836 - val_loss: 0.1451 - val_accuracy: 0.9563\n",
            "Epoch 109/200\n",
            "10/10 [==============================] - 0s 7ms/step - loss: 0.1135 - accuracy: 0.9789 - val_loss: 0.1440 - val_accuracy: 0.9594\n",
            "Epoch 110/200\n",
            "10/10 [==============================] - 0s 6ms/step - loss: 0.1124 - accuracy: 0.9812 - val_loss: 0.1435 - val_accuracy: 0.9594\n",
            "Epoch 111/200\n",
            "10/10 [==============================] - 0s 7ms/step - loss: 0.1114 - accuracy: 0.9820 - val_loss: 0.1430 - val_accuracy: 0.9594\n",
            "Epoch 112/200\n",
            "10/10 [==============================] - 0s 5ms/step - loss: 0.1107 - accuracy: 0.9797 - val_loss: 0.1425 - val_accuracy: 0.9594\n",
            "Epoch 113/200\n",
            "10/10 [==============================] - 0s 7ms/step - loss: 0.1099 - accuracy: 0.9812 - val_loss: 0.1415 - val_accuracy: 0.9594\n",
            "Epoch 114/200\n",
            "10/10 [==============================] - 0s 7ms/step - loss: 0.1091 - accuracy: 0.9820 - val_loss: 0.1406 - val_accuracy: 0.9594\n",
            "Epoch 115/200\n",
            "10/10 [==============================] - 0s 6ms/step - loss: 0.1081 - accuracy: 0.9820 - val_loss: 0.1401 - val_accuracy: 0.9594\n",
            "Epoch 116/200\n",
            "10/10 [==============================] - 0s 5ms/step - loss: 0.1075 - accuracy: 0.9828 - val_loss: 0.1395 - val_accuracy: 0.9563\n",
            "Epoch 117/200\n",
            "10/10 [==============================] - 0s 5ms/step - loss: 0.1067 - accuracy: 0.9828 - val_loss: 0.1387 - val_accuracy: 0.9594\n",
            "Epoch 118/200\n",
            "10/10 [==============================] - 0s 5ms/step - loss: 0.1058 - accuracy: 0.9828 - val_loss: 0.1386 - val_accuracy: 0.9625\n",
            "Epoch 119/200\n",
            "10/10 [==============================] - 0s 5ms/step - loss: 0.1046 - accuracy: 0.9852 - val_loss: 0.1377 - val_accuracy: 0.9594\n",
            "Epoch 120/200\n",
            "10/10 [==============================] - 0s 6ms/step - loss: 0.1043 - accuracy: 0.9828 - val_loss: 0.1373 - val_accuracy: 0.9594\n",
            "Epoch 121/200\n",
            "10/10 [==============================] - 0s 5ms/step - loss: 0.1032 - accuracy: 0.9844 - val_loss: 0.1368 - val_accuracy: 0.9594\n",
            "Epoch 122/200\n",
            "10/10 [==============================] - 0s 6ms/step - loss: 0.1026 - accuracy: 0.9859 - val_loss: 0.1360 - val_accuracy: 0.9594\n",
            "Epoch 123/200\n",
            "10/10 [==============================] - 0s 5ms/step - loss: 0.1022 - accuracy: 0.9836 - val_loss: 0.1352 - val_accuracy: 0.9594\n",
            "Epoch 124/200\n",
            "10/10 [==============================] - 0s 7ms/step - loss: 0.1010 - accuracy: 0.9844 - val_loss: 0.1343 - val_accuracy: 0.9594\n",
            "Epoch 125/200\n",
            "10/10 [==============================] - 0s 5ms/step - loss: 0.1002 - accuracy: 0.9859 - val_loss: 0.1339 - val_accuracy: 0.9594\n",
            "Epoch 126/200\n",
            "10/10 [==============================] - 0s 6ms/step - loss: 0.0997 - accuracy: 0.9844 - val_loss: 0.1330 - val_accuracy: 0.9594\n",
            "Epoch 127/200\n",
            "10/10 [==============================] - 0s 5ms/step - loss: 0.0989 - accuracy: 0.9852 - val_loss: 0.1329 - val_accuracy: 0.9594\n",
            "Epoch 128/200\n",
            "10/10 [==============================] - 0s 9ms/step - loss: 0.0988 - accuracy: 0.9844 - val_loss: 0.1325 - val_accuracy: 0.9594\n",
            "Epoch 129/200\n",
            "10/10 [==============================] - 0s 7ms/step - loss: 0.0977 - accuracy: 0.9852 - val_loss: 0.1319 - val_accuracy: 0.9594\n",
            "Epoch 130/200\n",
            "10/10 [==============================] - 0s 6ms/step - loss: 0.0974 - accuracy: 0.9859 - val_loss: 0.1310 - val_accuracy: 0.9594\n",
            "Epoch 131/200\n",
            "10/10 [==============================] - 0s 5ms/step - loss: 0.0962 - accuracy: 0.9859 - val_loss: 0.1307 - val_accuracy: 0.9594\n",
            "Epoch 132/200\n",
            "10/10 [==============================] - 0s 6ms/step - loss: 0.0959 - accuracy: 0.9859 - val_loss: 0.1302 - val_accuracy: 0.9594\n",
            "Epoch 133/200\n",
            "10/10 [==============================] - 0s 8ms/step - loss: 0.0950 - accuracy: 0.9852 - val_loss: 0.1298 - val_accuracy: 0.9594\n",
            "Epoch 134/200\n",
            "10/10 [==============================] - 0s 6ms/step - loss: 0.0947 - accuracy: 0.9867 - val_loss: 0.1292 - val_accuracy: 0.9594\n",
            "Epoch 135/200\n",
            "10/10 [==============================] - 0s 6ms/step - loss: 0.0942 - accuracy: 0.9875 - val_loss: 0.1292 - val_accuracy: 0.9594\n",
            "Epoch 136/200\n",
            "10/10 [==============================] - 0s 9ms/step - loss: 0.0935 - accuracy: 0.9859 - val_loss: 0.1287 - val_accuracy: 0.9594\n",
            "Epoch 137/200\n",
            "10/10 [==============================] - 0s 4ms/step - loss: 0.0931 - accuracy: 0.9867 - val_loss: 0.1279 - val_accuracy: 0.9594\n",
            "Epoch 138/200\n",
            "10/10 [==============================] - 0s 5ms/step - loss: 0.0925 - accuracy: 0.9875 - val_loss: 0.1275 - val_accuracy: 0.9594\n",
            "Epoch 139/200\n",
            "10/10 [==============================] - 0s 5ms/step - loss: 0.0915 - accuracy: 0.9852 - val_loss: 0.1274 - val_accuracy: 0.9594\n",
            "Epoch 140/200\n",
            "10/10 [==============================] - 0s 5ms/step - loss: 0.0911 - accuracy: 0.9875 - val_loss: 0.1267 - val_accuracy: 0.9594\n",
            "Epoch 141/200\n",
            "10/10 [==============================] - 0s 5ms/step - loss: 0.0906 - accuracy: 0.9867 - val_loss: 0.1265 - val_accuracy: 0.9594\n",
            "Epoch 142/200\n",
            "10/10 [==============================] - 0s 7ms/step - loss: 0.0899 - accuracy: 0.9859 - val_loss: 0.1262 - val_accuracy: 0.9563\n",
            "Epoch 143/200\n",
            "10/10 [==============================] - 0s 5ms/step - loss: 0.0889 - accuracy: 0.9883 - val_loss: 0.1256 - val_accuracy: 0.9594\n",
            "Epoch 144/200\n",
            "10/10 [==============================] - 0s 7ms/step - loss: 0.0886 - accuracy: 0.9891 - val_loss: 0.1252 - val_accuracy: 0.9563\n",
            "Epoch 145/200\n",
            "10/10 [==============================] - 0s 6ms/step - loss: 0.0881 - accuracy: 0.9883 - val_loss: 0.1251 - val_accuracy: 0.9625\n",
            "Epoch 146/200\n",
            "10/10 [==============================] - 0s 8ms/step - loss: 0.0876 - accuracy: 0.9883 - val_loss: 0.1247 - val_accuracy: 0.9594\n",
            "Epoch 147/200\n",
            "10/10 [==============================] - 0s 6ms/step - loss: 0.0871 - accuracy: 0.9883 - val_loss: 0.1242 - val_accuracy: 0.9594\n",
            "Epoch 148/200\n",
            "10/10 [==============================] - 0s 5ms/step - loss: 0.0867 - accuracy: 0.9875 - val_loss: 0.1237 - val_accuracy: 0.9594\n",
            "Epoch 149/200\n",
            "10/10 [==============================] - 0s 5ms/step - loss: 0.0863 - accuracy: 0.9883 - val_loss: 0.1235 - val_accuracy: 0.9594\n",
            "Epoch 150/200\n",
            "10/10 [==============================] - 0s 5ms/step - loss: 0.0859 - accuracy: 0.9875 - val_loss: 0.1228 - val_accuracy: 0.9563\n",
            "Epoch 151/200\n",
            "10/10 [==============================] - 0s 7ms/step - loss: 0.0854 - accuracy: 0.9875 - val_loss: 0.1224 - val_accuracy: 0.9563\n",
            "Epoch 152/200\n",
            "10/10 [==============================] - 0s 8ms/step - loss: 0.0847 - accuracy: 0.9891 - val_loss: 0.1223 - val_accuracy: 0.9563\n",
            "Epoch 153/200\n",
            "10/10 [==============================] - 0s 7ms/step - loss: 0.0841 - accuracy: 0.9859 - val_loss: 0.1215 - val_accuracy: 0.9625\n",
            "Epoch 154/200\n",
            "10/10 [==============================] - 0s 5ms/step - loss: 0.0836 - accuracy: 0.9883 - val_loss: 0.1211 - val_accuracy: 0.9594\n",
            "Epoch 155/200\n",
            "10/10 [==============================] - 0s 5ms/step - loss: 0.0835 - accuracy: 0.9914 - val_loss: 0.1209 - val_accuracy: 0.9625\n",
            "Epoch 156/200\n",
            "10/10 [==============================] - 0s 5ms/step - loss: 0.0830 - accuracy: 0.9883 - val_loss: 0.1204 - val_accuracy: 0.9594\n",
            "Epoch 157/200\n",
            "10/10 [==============================] - 0s 7ms/step - loss: 0.0823 - accuracy: 0.9883 - val_loss: 0.1208 - val_accuracy: 0.9531\n",
            "Epoch 158/200\n",
            "10/10 [==============================] - 0s 5ms/step - loss: 0.0819 - accuracy: 0.9875 - val_loss: 0.1203 - val_accuracy: 0.9594\n",
            "Epoch 159/200\n",
            "10/10 [==============================] - 0s 6ms/step - loss: 0.0815 - accuracy: 0.9898 - val_loss: 0.1201 - val_accuracy: 0.9594\n",
            "Epoch 160/200\n",
            "10/10 [==============================] - 0s 7ms/step - loss: 0.0809 - accuracy: 0.9906 - val_loss: 0.1194 - val_accuracy: 0.9594\n",
            "Epoch 161/200\n",
            "10/10 [==============================] - 0s 5ms/step - loss: 0.0804 - accuracy: 0.9891 - val_loss: 0.1189 - val_accuracy: 0.9625\n",
            "Epoch 162/200\n",
            "10/10 [==============================] - 0s 7ms/step - loss: 0.0802 - accuracy: 0.9883 - val_loss: 0.1190 - val_accuracy: 0.9625\n",
            "Epoch 163/200\n",
            "10/10 [==============================] - 0s 5ms/step - loss: 0.0796 - accuracy: 0.9891 - val_loss: 0.1185 - val_accuracy: 0.9625\n",
            "Epoch 164/200\n",
            "10/10 [==============================] - 0s 4ms/step - loss: 0.0795 - accuracy: 0.9898 - val_loss: 0.1185 - val_accuracy: 0.9594\n",
            "Epoch 165/200\n",
            "10/10 [==============================] - 0s 5ms/step - loss: 0.0785 - accuracy: 0.9906 - val_loss: 0.1182 - val_accuracy: 0.9625\n",
            "Epoch 166/200\n",
            "10/10 [==============================] - 0s 5ms/step - loss: 0.0781 - accuracy: 0.9906 - val_loss: 0.1178 - val_accuracy: 0.9625\n",
            "Epoch 167/200\n",
            "10/10 [==============================] - 0s 6ms/step - loss: 0.0779 - accuracy: 0.9883 - val_loss: 0.1177 - val_accuracy: 0.9625\n",
            "Epoch 168/200\n",
            "10/10 [==============================] - 0s 5ms/step - loss: 0.0779 - accuracy: 0.9891 - val_loss: 0.1175 - val_accuracy: 0.9594\n",
            "Epoch 169/200\n",
            "10/10 [==============================] - 0s 5ms/step - loss: 0.0767 - accuracy: 0.9906 - val_loss: 0.1173 - val_accuracy: 0.9625\n",
            "Epoch 170/200\n",
            "10/10 [==============================] - 0s 7ms/step - loss: 0.0767 - accuracy: 0.9898 - val_loss: 0.1170 - val_accuracy: 0.9594\n",
            "Epoch 171/200\n",
            "10/10 [==============================] - 0s 9ms/step - loss: 0.0763 - accuracy: 0.9891 - val_loss: 0.1169 - val_accuracy: 0.9625\n",
            "Epoch 172/200\n",
            "10/10 [==============================] - 0s 5ms/step - loss: 0.0758 - accuracy: 0.9906 - val_loss: 0.1170 - val_accuracy: 0.9531\n",
            "Epoch 173/200\n",
            "10/10 [==============================] - 0s 7ms/step - loss: 0.0755 - accuracy: 0.9891 - val_loss: 0.1163 - val_accuracy: 0.9594\n",
            "Epoch 174/200\n",
            "10/10 [==============================] - 0s 5ms/step - loss: 0.0749 - accuracy: 0.9914 - val_loss: 0.1163 - val_accuracy: 0.9563\n",
            "Epoch 175/200\n",
            "10/10 [==============================] - 0s 5ms/step - loss: 0.0748 - accuracy: 0.9891 - val_loss: 0.1161 - val_accuracy: 0.9563\n",
            "Epoch 176/200\n",
            "10/10 [==============================] - 0s 5ms/step - loss: 0.0742 - accuracy: 0.9898 - val_loss: 0.1159 - val_accuracy: 0.9625\n",
            "Epoch 177/200\n",
            "10/10 [==============================] - 0s 4ms/step - loss: 0.0738 - accuracy: 0.9891 - val_loss: 0.1155 - val_accuracy: 0.9625\n",
            "Epoch 178/200\n",
            "10/10 [==============================] - 0s 6ms/step - loss: 0.0738 - accuracy: 0.9906 - val_loss: 0.1153 - val_accuracy: 0.9594\n",
            "Epoch 179/200\n",
            "10/10 [==============================] - 0s 5ms/step - loss: 0.0732 - accuracy: 0.9891 - val_loss: 0.1151 - val_accuracy: 0.9531\n",
            "Epoch 180/200\n",
            "10/10 [==============================] - 0s 5ms/step - loss: 0.0731 - accuracy: 0.9898 - val_loss: 0.1146 - val_accuracy: 0.9594\n",
            "Epoch 181/200\n",
            "10/10 [==============================] - 0s 9ms/step - loss: 0.0726 - accuracy: 0.9906 - val_loss: 0.1143 - val_accuracy: 0.9594\n",
            "Epoch 182/200\n",
            "10/10 [==============================] - 0s 7ms/step - loss: 0.0720 - accuracy: 0.9906 - val_loss: 0.1142 - val_accuracy: 0.9594\n",
            "Epoch 183/200\n",
            "10/10 [==============================] - 0s 5ms/step - loss: 0.0717 - accuracy: 0.9898 - val_loss: 0.1142 - val_accuracy: 0.9625\n",
            "Epoch 184/200\n",
            "10/10 [==============================] - 0s 7ms/step - loss: 0.0714 - accuracy: 0.9906 - val_loss: 0.1142 - val_accuracy: 0.9625\n",
            "Epoch 185/200\n",
            "10/10 [==============================] - 0s 5ms/step - loss: 0.0709 - accuracy: 0.9922 - val_loss: 0.1143 - val_accuracy: 0.9563\n",
            "Epoch 186/200\n",
            "10/10 [==============================] - 0s 5ms/step - loss: 0.0706 - accuracy: 0.9914 - val_loss: 0.1143 - val_accuracy: 0.9594\n",
            "Epoch 187/200\n",
            "10/10 [==============================] - 0s 6ms/step - loss: 0.0705 - accuracy: 0.9914 - val_loss: 0.1135 - val_accuracy: 0.9594\n",
            "Epoch 188/200\n",
            "10/10 [==============================] - 0s 8ms/step - loss: 0.0699 - accuracy: 0.9914 - val_loss: 0.1132 - val_accuracy: 0.9594\n",
            "Epoch 189/200\n",
            "10/10 [==============================] - 0s 7ms/step - loss: 0.0696 - accuracy: 0.9914 - val_loss: 0.1131 - val_accuracy: 0.9594\n",
            "Epoch 190/200\n",
            "10/10 [==============================] - 0s 5ms/step - loss: 0.0689 - accuracy: 0.9914 - val_loss: 0.1131 - val_accuracy: 0.9594\n",
            "Epoch 191/200\n",
            "10/10 [==============================] - 0s 5ms/step - loss: 0.0689 - accuracy: 0.9906 - val_loss: 0.1130 - val_accuracy: 0.9563\n",
            "Epoch 192/200\n",
            "10/10 [==============================] - 0s 5ms/step - loss: 0.0687 - accuracy: 0.9906 - val_loss: 0.1127 - val_accuracy: 0.9594\n",
            "Epoch 193/200\n",
            "10/10 [==============================] - 0s 6ms/step - loss: 0.0686 - accuracy: 0.9906 - val_loss: 0.1128 - val_accuracy: 0.9594\n",
            "Epoch 194/200\n",
            "10/10 [==============================] - 0s 7ms/step - loss: 0.0678 - accuracy: 0.9914 - val_loss: 0.1120 - val_accuracy: 0.9594\n",
            "Epoch 195/200\n",
            "10/10 [==============================] - 0s 5ms/step - loss: 0.0675 - accuracy: 0.9930 - val_loss: 0.1120 - val_accuracy: 0.9594\n",
            "Epoch 196/200\n",
            "10/10 [==============================] - 0s 8ms/step - loss: 0.0672 - accuracy: 0.9922 - val_loss: 0.1122 - val_accuracy: 0.9594\n",
            "Epoch 197/200\n",
            "10/10 [==============================] - 0s 7ms/step - loss: 0.0670 - accuracy: 0.9922 - val_loss: 0.1117 - val_accuracy: 0.9625\n",
            "Epoch 198/200\n",
            "10/10 [==============================] - 0s 6ms/step - loss: 0.0665 - accuracy: 0.9930 - val_loss: 0.1119 - val_accuracy: 0.9625\n",
            "Epoch 199/200\n",
            "10/10 [==============================] - 0s 7ms/step - loss: 0.0666 - accuracy: 0.9906 - val_loss: 0.1116 - val_accuracy: 0.9594\n",
            "Epoch 200/200\n",
            "10/10 [==============================] - 0s 5ms/step - loss: 0.0659 - accuracy: 0.9922 - val_loss: 0.1110 - val_accuracy: 0.9594\n"
          ]
        }
      ]
    },
    {
      "cell_type": "markdown",
      "source": [
        "**Evaluating the model**"
      ],
      "metadata": {
        "id": "XwXSWHD1DF3o"
      }
    },
    {
      "cell_type": "code",
      "source": [
        "score = model.evaluate(X_test, y_test, verbose=2) \n",
        "print('Test score:', score[0]) \n",
        "print('Test accuracy:', score[1])"
      ],
      "metadata": {
        "colab": {
          "base_uri": "https://localhost:8080/"
        },
        "id": "i6jhV2OTT7CR",
        "outputId": "c1d05475-0643-4d3a-fb46-988a538b7e62"
      },
      "execution_count": 584,
      "outputs": [
        {
          "output_type": "stream",
          "name": "stdout",
          "text": [
            "13/13 - 0s - loss: 0.1539 - accuracy: 0.9325 - 31ms/epoch - 2ms/step\n",
            "Test score: 0.15390847623348236\n",
            "Test accuracy: 0.9325000047683716\n"
          ]
        }
      ]
    },
    {
      "cell_type": "markdown",
      "source": [
        "**Predicting the class**"
      ],
      "metadata": {
        "id": "X8LsXwt_oMf1"
      }
    },
    {
      "cell_type": "code",
      "source": [
        "y_probability = model.predict(X_test)\n",
        "y_classes = y_probability.argmax(axis=-1)\n",
        "print (\"True class = \", y_test[10], \"Predicted class = \", y_classes[10])"
      ],
      "metadata": {
        "colab": {
          "base_uri": "https://localhost:8080/"
        },
        "id": "LplBBlEoRMAJ",
        "outputId": "ba8eaaff-df69-420e-82ec-9d0cc78d32e8"
      },
      "execution_count": 585,
      "outputs": [
        {
          "output_type": "stream",
          "name": "stdout",
          "text": [
            "13/13 [==============================] - 0s 2ms/step\n",
            "True class =  [0. 1. 0. 0.] Predicted class =  1\n"
          ]
        }
      ]
    },
    {
      "cell_type": "markdown",
      "source": [
        "**Plotting the model perfomance**"
      ],
      "metadata": {
        "id": "OK4HGV1koaq2"
      }
    },
    {
      "cell_type": "code",
      "source": [
        "import matplotlib.pyplot as plt\n",
        "%matplotlib inline\n",
        "\n",
        "def plot_history(network_history):\n",
        "    plt.figure()\n",
        "    plt.xlabel('Epoch')\n",
        "    plt.ylabel('Loss')\n",
        "    plt.plot(network_history.history['loss'])\n",
        "    plt.plot(network_history.history['val_loss'])\n",
        "    plt.legend(['Training', 'Validation'])\n",
        "\n",
        "    plt.figure()\n",
        "    plt.xlabel('Epoch')\n",
        "    plt.ylabel('Accuracy')\n",
        "    plt.plot(network_history.history['accuracy'])\n",
        "    plt.plot(network_history.history['val_accuracy'])\n",
        "    plt.legend(['Training', 'Validation'], loc='lower right')\n",
        "    plt.show()\n",
        "\n",
        "plot_history(model_history)"
      ],
      "metadata": {
        "colab": {
          "base_uri": "https://localhost:8080/",
          "height": 541
        },
        "id": "iqajZnpBP59n",
        "outputId": "198b1c9e-afba-4399-a9d8-e226737379b8"
      },
      "execution_count": 586,
      "outputs": [
        {
          "output_type": "display_data",
          "data": {
            "text/plain": [
              "<Figure size 432x288 with 1 Axes>"
            ],
            "image/png": "[encoded data removed]"
          },
          "metadata": {
            "needs_background": "light"
          }
        },
        {
          "output_type": "display_data",
          "data": {
            "text/plain": [
              "<Figure size 432x288 with 1 Axes>"
            ],
            "image/png": "[encoded data removed]"
          },
          "metadata": {
            "needs_background": "light"
          }
        }
      ]
    },
    {
      "cell_type": "markdown",
      "source": [
        "**Saving the trained model and its weights**"
      ],
      "metadata": {
        "id": "Gh-lLAOsogTv"
      }
    },
    {
      "cell_type": "code",
      "source": [
        "json_string = model.to_json() # as json \n",
        "open('mlp_dataset_model.json', 'w').write(json_string)\n",
        "# save the weights in h5 format \n",
        "model.save_weights('mlp_dataset_wts.h5')"
      ],
      "metadata": {
        "id": "sMWZxot7ojIP"
      },
      "execution_count": 587,
      "outputs": []
    },
    {
      "cell_type": "markdown",
      "source": [
        "**Retrieving a trained model & its weights**"
      ],
      "metadata": {
        "id": "BA7RbJCRomb8"
      }
    },
    {
      "cell_type": "code",
      "source": [
        "from keras.models import model_from_json\n",
        "model1 = model_from_json(open('mlp_dataset_model.json').read())\n",
        "model1.load_weights('mlp_dataset_wts.h5')\n",
        "model1.summary()\n",
        "model1.compile(optimizer='sgd', loss='categorical_crossentropy', metrics=['accuracy'])\n",
        "score = model1.evaluate(X_test, y_test, verbose=0) \n",
        "print('Test score:', score[0]) \n",
        "print('Test accuracy:', score[1])\n",
        "\n",
        "y_probability = model.predict(X_test)\n",
        "y_classes = y_probability.argmax(axis=-1)\n",
        "print (\"True class = \", y_test[0], \"Predicted class = \", y_classes[0])"
      ],
      "metadata": {
        "colab": {
          "base_uri": "https://localhost:8080/"
        },
        "id": "XCg-bI-Coy2d",
        "outputId": "1fec089d-b40c-4000-dc32-4ae27a4414f3"
      },
      "execution_count": 588,
      "outputs": [
        {
          "output_type": "stream",
          "name": "stdout",
          "text": [
            "Model: \"sequential_13\"\n",
            "_________________________________________________________________\n",
            " Layer (type)                Output Shape              Param #   \n",
            "=================================================================\n",
            " dense_26 (Dense)            (None, 16)                336       \n",
            "                                                                 \n",
            " dense_27 (Dense)            (None, 4)                 68        \n",
            "                                                                 \n",
            "=================================================================\n",
            "Total params: 404\n",
            "Trainable params: 404\n",
            "Non-trainable params: 0\n",
            "_________________________________________________________________\n",
            "Test score: 0.15390847623348236\n",
            "Test accuracy: 0.9325000047683716\n",
            "13/13 [==============================] - 0s 2ms/step\n",
            "True class =  [0. 0. 0. 1.] Predicted class =  3\n"
          ]
        }
      ]
    },
    {
      "cell_type": "markdown",
      "source": [
        "# **Comparing KNN Classification Algorithm & Multi-layer neural network**"
      ],
      "metadata": {
        "id": "ekj5NBfXpWbD"
      }
    },
    {
      "cell_type": "code",
      "source": [
        "models = ['KNN Classification Algorithm' , 'Multi-layer neural network']\n",
        "acc_scores = [acc, score[1] ]\n",
        "plt.bar(models, acc_scores, color=['red', 'black'])\n",
        "\n",
        "plt.title(\"Most Accurate Method\")\n",
        "plt.show()"
      ],
      "metadata": {
        "colab": {
          "base_uri": "https://localhost:8080/",
          "height": 281
        },
        "id": "JM0_36mCN_dw",
        "outputId": "e78630cb-165e-4fd8-c0f1-c13348791b55"
      },
      "execution_count": 589,
      "outputs": [
        {
          "output_type": "display_data",
          "data": {
            "text/plain": [
              "<Figure size 432x288 with 1 Axes>"
            ],
            "image/png": "[encoded data removed]"
          },
          "metadata": {
            "needs_background": "light"
          }
        }
      ]
    }
  ]
}